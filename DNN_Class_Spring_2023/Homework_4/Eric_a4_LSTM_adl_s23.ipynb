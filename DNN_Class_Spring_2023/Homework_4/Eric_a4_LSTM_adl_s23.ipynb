{
 "cells": [
  {
   "cell_type": "code",
   "execution_count": null,
   "metadata": {
    "collapsed": true,
    "pycharm": {
     "name": "#%%\n"
    }
   },
   "outputs": [],
   "source": [
    "#import packages\n",
    "import tensorflow\n",
    "import numpy as np\n",
    "import sklearn.metrics\n"
   ]
  },
  {
   "cell_type": "code",
   "execution_count": 34,
   "outputs": [],
   "source": [
    "# My Functions Section\n",
    "def custom_acc_function(y_test,y_pred):\n",
    "    y_binary_pred = np.zeros(len(y_pred))\n",
    "    for i in range(len(y_pred)):\n",
    "        if y_pred[i] > 0.50:\n",
    "            y_binary_pred[i] = 1\n",
    "    acc = (sklearn.metrics.accuracy_score(y_test,y_binary_pred))\n",
    "    precision = (sklearn.metrics.precision_score(y_test,y_binary_pred))\n",
    "    recall = (sklearn.metrics.recall_score(y_test,y_binary_pred))\n",
    "    f1 = (sklearn.metrics.f1_score(y_test,y_binary_pred))\n",
    "    print(f\"Accuracy: {acc}\")\n",
    "    print(f\"Precision: {precision}\")\n",
    "    print(f\"Recall: {recall}\")\n",
    "    print(f\"F1 Score: {f1}\")\n",
    "    performarray = [acc,precision,recall,f1]\n",
    "    return performarray"
   ],
   "metadata": {
    "collapsed": false,
    "pycharm": {
     "name": "#%%\n"
    }
   }
  },
  {
   "cell_type": "code",
   "execution_count": 1,
   "outputs": [],
   "source": [
    "#### LSTM METHODS ###############"
   ],
   "metadata": {
    "collapsed": false,
    "pycharm": {
     "name": "#%%\n"
    }
   }
  },
  {
   "cell_type": "code",
   "execution_count": 2,
   "outputs": [
    {
     "name": "stdout",
     "output_type": "stream",
     "text": [
      "391/391 [==============================] - 256s 645ms/step - loss: 0.4668 - accuracy: 0.7764\n",
      "Epoch 2/3\n",
      "391/391 [==============================] - 192s 490ms/step - loss: 0.2920 - accuracy: 0.8845\n",
      "Epoch 3/3\n",
      "391/391 [==============================] - 216s 553ms/step - loss: 0.2548 - accuracy: 0.9020\n",
      "Accuracy: 86.54%\n"
     ]
    }
   ],
   "source": [
    "# Standard LSTM method\n",
    "\n",
    "# LSTM for sequence classification in the IMDB dataset\n",
    "import tensorflow as tf\n",
    "from tensorflow.keras.datasets import imdb\n",
    "from tensorflow.keras.models import Sequential\n",
    "from tensorflow.keras.layers import Dense\n",
    "from tensorflow.keras.layers import LSTM\n",
    "from tensorflow.keras.layers import Embedding\n",
    "from tensorflow.keras.preprocessing import sequence\n",
    "# fix random seed for reproducibility\n",
    "tf.random.set_seed(7)\n",
    "# load the dataset but only keep the top n words, zero the rest\n",
    "top_words = 5000\n",
    "(X_train, y_train), (X_test, y_test) = imdb.load_data(num_words=top_words)\n",
    "# truncate and pad input sequences\n",
    "max_review_length = 500\n",
    "X_train = sequence.pad_sequences(X_train, maxlen=max_review_length)\n",
    "X_test = sequence.pad_sequences(X_test, maxlen=max_review_length)\n",
    "# create the model\n",
    "embedding_vecor_length = 32\n",
    "model = Sequential()\n",
    "model.add(Embedding(top_words, embedding_vecor_length, input_length=max_review_length))\n",
    "model.add(LSTM(100))\n",
    "model.add(Dense(1, activation='sigmoid'))\n",
    "model.compile(loss='binary_crossentropy', optimizer='adam', metrics=['accuracy'])\n",
    "print(model.summary())\n",
    "model.fit(X_train, y_train, epochs=3, batch_size=64)\n",
    "# Final evaluation of the model\n",
    "scores = model.evaluate(X_test, y_test, verbose=0) #tells the loss and accuracy of the function called\n",
    "print(\"Accuracy: %.2f%%\" % (scores[1]*100))"
   ],
   "metadata": {
    "collapsed": false,
    "pycharm": {
     "name": "#%%\n"
    }
   }
  },
  {
   "cell_type": "code",
   "execution_count": 37,
   "outputs": [
    {
     "name": "stdout",
     "output_type": "stream",
     "text": [
      "Accuracy of LSTM Classic Prediction\n",
      "Accuracy: 0.86536\n",
      "Precision: 0.8233503256867742\n",
      "Recall: 0.93032\n",
      "F1 Score: 0.8735727163461539\n"
     ]
    }
   ],
   "source": [
    "# Get Prediction\n",
    "Prediction_LSTM_Classic = model.predict(X_test)\n",
    "# get performance using custom function, calls array to set binary 1 and 0 if probability is greater than 0.50 in array\n",
    "print(\"Accuracy of LSTM Classic Prediction\")\n",
    "LSTM_classic_perform = custom_acc_function(y_test,Prediction_LSTM_Classic)"
   ],
   "metadata": {
    "collapsed": false,
    "pycharm": {
     "name": "#%%\n"
    }
   }
  },
  {
   "cell_type": "code",
   "execution_count": 38,
   "outputs": [
    {
     "name": "stdout",
     "output_type": "stream",
     "text": [
      "Model: \"sequential_1\"\n",
      "_________________________________________________________________\n",
      " Layer (type)                Output Shape              Param #   \n",
      "=================================================================\n",
      " embedding_1 (Embedding)     (None, 500, 32)           160000    \n",
      "                                                                 \n",
      " dropout (Dropout)           (None, 500, 32)           0         \n",
      "                                                                 \n",
      " lstm_1 (LSTM)               (None, 100)               53200     \n",
      "                                                                 \n",
      " dropout_1 (Dropout)         (None, 100)               0         \n",
      "                                                                 \n",
      " dense_1 (Dense)             (None, 1)                 101       \n",
      "                                                                 \n",
      "=================================================================\n",
      "Total params: 213,301\n",
      "Trainable params: 213,301\n",
      "Non-trainable params: 0\n",
      "_________________________________________________________________\n",
      "None\n",
      "Epoch 1/3\n",
      "391/391 [==============================] - 193s 488ms/step - loss: 0.4896 - accuracy: 0.7544\n",
      "Epoch 2/3\n",
      "391/391 [==============================] - 197s 503ms/step - loss: 0.3167 - accuracy: 0.8714\n",
      "Epoch 3/3\n",
      "391/391 [==============================] - 201s 514ms/step - loss: 0.2525 - accuracy: 0.9015\n",
      "Accuracy: 87.68%\n"
     ]
    }
   ],
   "source": [
    "#LSTM Using Drop Out Layers\n",
    "from tensorflow.keras.layers import Dropout\n",
    "# create the model\n",
    "embedding_vecor_length = 32\n",
    "model = Sequential()\n",
    "model.add(Embedding(top_words, embedding_vecor_length, input_length=max_review_length))\n",
    "model.add(Dropout(0.2))\n",
    "model.add(LSTM(100))\n",
    "model.add(Dropout(0.2))\n",
    "model.add(Dense(1, activation='sigmoid'))\n",
    "model.compile(loss='binary_crossentropy', optimizer='adam', metrics=['accuracy'])\n",
    "print(model.summary())\n",
    "model.fit(X_train, y_train, epochs=3, batch_size=64)\n",
    "# Final evaluation of the model\n",
    "scores = model.evaluate(X_test, y_test, verbose=0)\n",
    "print(\"Accuracy: %.2f%%\" % (scores[1]*100))\n",
    "\n"
   ],
   "metadata": {
    "collapsed": false,
    "pycharm": {
     "name": "#%%\n"
    }
   }
  },
  {
   "cell_type": "code",
   "execution_count": 39,
   "outputs": [
    {
     "name": "stdout",
     "output_type": "stream",
     "text": [
      "782/782 [==============================] - 35s 45ms/step\n",
      "Accuracy of LSTM Dropout Prediction\n",
      "Accuracy: 0.8768\n",
      "Precision: 0.8606984224230357\n",
      "Recall: 0.89912\n",
      "F1 Score: 0.8794897879333282\n"
     ]
    }
   ],
   "source": [
    "# Get Prediction\n",
    "Prediction_LSTM_dropout = model.predict(X_test)\n",
    "# get performance using custom function, calls array to set binary 1 and 0 if probability is greater than 0.50 in array\n",
    "print(\"Accuracy of LSTM Dropout Prediction\")\n",
    "LSTM_Dropout_perform = custom_acc_function(y_test,Prediction_LSTM_dropout)"
   ],
   "metadata": {
    "collapsed": false,
    "pycharm": {
     "name": "#%%\n"
    }
   }
  },
  {
   "cell_type": "code",
   "execution_count": 40,
   "outputs": [
    {
     "name": "stdout",
     "output_type": "stream",
     "text": [
      "Model: \"sequential_2\"\n",
      "_________________________________________________________________\n",
      " Layer (type)                Output Shape              Param #   \n",
      "=================================================================\n",
      " embedding_2 (Embedding)     (None, 500, 32)           160000    \n",
      "                                                                 \n",
      " bidirectional (Bidirectiona  (None, 200)              106400    \n",
      " l)                                                              \n",
      "                                                                 \n",
      " dense_2 (Dense)             (None, 1)                 201       \n",
      "                                                                 \n",
      "=================================================================\n",
      "Total params: 266,601\n",
      "Trainable params: 266,601\n",
      "Non-trainable params: 0\n",
      "_________________________________________________________________\n",
      "None\n",
      "Epoch 1/3\n",
      "391/391 [==============================] - 989s 3s/step - loss: 0.5092 - accuracy: 0.7489\n",
      "Epoch 2/3\n",
      "391/391 [==============================] - 1196s 3s/step - loss: 0.3441 - accuracy: 0.8558\n",
      "Epoch 3/3\n",
      "391/391 [==============================] - 1150s 3s/step - loss: 0.2725 - accuracy: 0.8913\n",
      "Accuracy: 87.52%\n"
     ]
    }
   ],
   "source": [
    "#Finally LSTM using Bi-directional Methods\n",
    "\n",
    "# LSTM with dropout for sequence classification in the IMDB dataset\n",
    "from tensorflow.keras.layers import Bidirectional\n",
    "from tensorflow.keras.layers import Embedding\n",
    "from tensorflow.keras.preprocessing import sequence\n",
    "# fix random seed for reproducibility\n",
    "tf.random.set_seed(7)\n",
    "# load the dataset but only keep the top n words, zero the rest\n",
    "top_words = 5000\n",
    "(X_train, y_train), (X_test, y_test) = imdb.load_data(num_words=top_words)\n",
    "# truncate and pad input sequences\n",
    "max_review_length = 500\n",
    "X_train = sequence.pad_sequences(X_train, maxlen=max_review_length)\n",
    "X_test = sequence.pad_sequences(X_test, maxlen=max_review_length)\n",
    "# create the model\n",
    "embedding_vecor_length = 32\n",
    "model = Sequential()\n",
    "model.add(Embedding(top_words, embedding_vecor_length, input_length=max_review_length))\n",
    "model.add(Bidirectional(LSTM(100, dropout=0.2, recurrent_dropout=0.2)))\n",
    "model.add(Dense(1, activation='sigmoid'))\n",
    "model.compile(loss='binary_crossentropy', optimizer='adam', metrics=['accuracy'])\n",
    "print(model.summary())\n",
    "model.fit(X_train, y_train, epochs=3, batch_size=64)\n",
    "# Final evaluation of the model\n",
    "scores = model.evaluate(X_test, y_test, verbose=0)\n",
    "print(\"Accuracy: %.2f%%\" % (scores[1]*100))\n"
   ],
   "metadata": {
    "collapsed": false,
    "pycharm": {
     "name": "#%%\n"
    }
   }
  },
  {
   "cell_type": "code",
   "execution_count": 41,
   "outputs": [
    {
     "name": "stdout",
     "output_type": "stream",
     "text": [
      "782/782 [==============================] - 118s 150ms/step\n",
      "Accuracy of LSTM Bidirectional Prediction\n",
      "Accuracy: 0.87524\n",
      "Precision: 0.8782356261591807\n",
      "Recall: 0.87128\n",
      "F1 Score: 0.8747439861852938\n"
     ]
    }
   ],
   "source": [
    "# Get Prediction\n",
    "Prediction_LSTM_bidirectional = model.predict(X_test)\n",
    "# get performance using custom function, calls array to set binary 1 and 0 if probability is greater than 0.50 in array\n",
    "print(\"Accuracy of LSTM Bidirectional Prediction\")\n",
    "LSTM_bidirectional_perform = custom_acc_function(y_test,Prediction_LSTM_bidirectional)\n"
   ],
   "metadata": {
    "collapsed": false,
    "pycharm": {
     "name": "#%%\n"
    }
   }
  },
  {
   "cell_type": "code",
   "execution_count": 42,
   "outputs": [],
   "source": [
    "#### RNN Methods ########"
   ],
   "metadata": {
    "collapsed": false,
    "pycharm": {
     "name": "#%%\n"
    }
   }
  },
  {
   "cell_type": "code",
   "execution_count": 46,
   "outputs": [
    {
     "name": "stdout",
     "output_type": "stream",
     "text": [
      "Model: \"sequential_6\"\n",
      "_________________________________________________________________\n",
      " Layer (type)                Output Shape              Param #   \n",
      "=================================================================\n",
      " embedding_6 (Embedding)     (None, 500, 32)           160000    \n",
      "                                                                 \n",
      " simple_rnn (SimpleRNN)      (None, 100)               13300     \n",
      "                                                                 \n",
      " dense_3 (Dense)             (None, 1)                 101       \n",
      "                                                                 \n",
      "=================================================================\n",
      "Total params: 173,401\n",
      "Trainable params: 173,401\n",
      "Non-trainable params: 0\n",
      "_________________________________________________________________\n",
      "None\n",
      "Epoch 1/3\n",
      "391/391 [==============================] - 23s 57ms/step - loss: 0.6644 - accuracy: 0.5834\n",
      "Epoch 2/3\n",
      "391/391 [==============================] - 21s 55ms/step - loss: 0.5637 - accuracy: 0.7218\n",
      "Epoch 3/3\n",
      "391/391 [==============================] - 21s 54ms/step - loss: 0.5577 - accuracy: 0.7346\n",
      "Accuracy: 64.84%\n"
     ]
    }
   ],
   "source": [
    "# Standard RNN method\n",
    "\n",
    "# RNN for sequence classification in the IMDB dataset\n",
    "import tensorflow as tf\n",
    "from tensorflow.keras.datasets import imdb\n",
    "from tensorflow.keras.models import Sequential\n",
    "from tensorflow.keras.layers import Dense\n",
    "from tensorflow.keras.layers import SimpleRNN\n",
    "from tensorflow.keras.layers import Embedding\n",
    "from tensorflow.keras.preprocessing import sequence\n",
    "# fix random seed for reproducibility\n",
    "tf.random.set_seed(7)\n",
    "# load the dataset but only keep the top n words, zero the rest\n",
    "top_words = 5000\n",
    "(X_train, y_train), (X_test, y_test) = imdb.load_data(num_words=top_words)\n",
    "# truncate and pad input sequences\n",
    "max_review_length = 500\n",
    "X_train = sequence.pad_sequences(X_train, maxlen=max_review_length)\n",
    "X_test = sequence.pad_sequences(X_test, maxlen=max_review_length)\n",
    "# create the model\n",
    "embedding_vecor_length = 32\n",
    "model = Sequential()\n",
    "model.add(Embedding(top_words, embedding_vecor_length, input_length=max_review_length))\n",
    "model.add(SimpleRNN(100))\n",
    "model.add(Dense(1, activation='sigmoid'))\n",
    "model.compile(loss='binary_crossentropy', optimizer='adam', metrics=['accuracy'])\n",
    "print(model.summary())\n",
    "model.fit(X_train, y_train, epochs=3, batch_size=64)\n",
    "# Final evaluation of the model\n",
    "scores = model.evaluate(X_test, y_test, verbose=0) #tells the loss and accuracy of the function called\n",
    "print(\"Accuracy: %.2f%%\" % (scores[1]*100))\n",
    "\n"
   ],
   "metadata": {
    "collapsed": false,
    "pycharm": {
     "name": "#%%\n"
    }
   }
  },
  {
   "cell_type": "code",
   "execution_count": 47,
   "outputs": [
    {
     "name": "stdout",
     "output_type": "stream",
     "text": [
      "782/782 [==============================] - 16s 21ms/step\n",
      "Accuracy of RNN Classic Prediction\n",
      "Accuracy: 0.6484\n",
      "Precision: 0.5917136359141699\n",
      "Recall: 0.95744\n",
      "F1 Score: 0.7314062213530527\n"
     ]
    }
   ],
   "source": [
    "# Get Prediction RNN Classic\n",
    "Prediction_RNN_Classic = model.predict(X_test)\n",
    "# get performance using custom function, calls array to set binary 1 and 0 if probability is greater than 0.50 in array\n",
    "print(\"Accuracy of RNN Classic Prediction\")\n",
    "RNN_classic_perform = custom_acc_function(y_test,Prediction_RNN_Classic)\n"
   ],
   "metadata": {
    "collapsed": false,
    "pycharm": {
     "name": "#%%\n"
    }
   }
  },
  {
   "cell_type": "code",
   "execution_count": 48,
   "outputs": [
    {
     "name": "stdout",
     "output_type": "stream",
     "text": [
      "Model: \"sequential_7\"\n",
      "_________________________________________________________________\n",
      " Layer (type)                Output Shape              Param #   \n",
      "=================================================================\n",
      " embedding_7 (Embedding)     (None, 500, 32)           160000    \n",
      "                                                                 \n",
      " dropout_2 (Dropout)         (None, 500, 32)           0         \n",
      "                                                                 \n",
      " simple_rnn_1 (SimpleRNN)    (None, 100)               13300     \n",
      "                                                                 \n",
      " dropout_3 (Dropout)         (None, 100)               0         \n",
      "                                                                 \n",
      " dense_4 (Dense)             (None, 1)                 101       \n",
      "                                                                 \n",
      "=================================================================\n",
      "Total params: 173,401\n",
      "Trainable params: 173,401\n",
      "Non-trainable params: 0\n",
      "_________________________________________________________________\n",
      "None\n",
      "Epoch 1/3\n",
      "391/391 [==============================] - 23s 58ms/step - loss: 0.6959 - accuracy: 0.5247\n",
      "Epoch 2/3\n",
      "391/391 [==============================] - 22s 57ms/step - loss: 0.6790 - accuracy: 0.5702\n",
      "Epoch 3/3\n",
      "391/391 [==============================] - 22s 57ms/step - loss: 0.5981 - accuracy: 0.6654\n",
      "Accuracy: 71.77%\n"
     ]
    }
   ],
   "source": [
    "# RNN with dropout\n",
    "#RNN Using Drop Out Layers\n",
    "\n",
    "# create the model\n",
    "embedding_vecor_length = 32\n",
    "model = Sequential()\n",
    "model.add(Embedding(top_words, embedding_vecor_length, input_length=max_review_length))\n",
    "model.add(Dropout(0.2))\n",
    "model.add(SimpleRNN(100))\n",
    "model.add(Dropout(0.2))\n",
    "model.add(Dense(1, activation='sigmoid'))\n",
    "model.compile(loss='binary_crossentropy', optimizer='adam', metrics=['accuracy'])\n",
    "print(model.summary())\n",
    "model.fit(X_train, y_train, epochs=3, batch_size=64)\n",
    "# Final evaluation of the model\n",
    "scores = model.evaluate(X_test, y_test, verbose=0)\n",
    "print(\"Accuracy: %.2f%%\" % (scores[1] * 100))"
   ],
   "metadata": {
    "collapsed": false,
    "pycharm": {
     "name": "#%%\n"
    }
   }
  },
  {
   "cell_type": "code",
   "execution_count": 49,
   "outputs": [
    {
     "name": "stdout",
     "output_type": "stream",
     "text": [
      "782/782 [==============================] - 16s 20ms/step\n",
      "Accuracy of RNN Dropout Prediction\n",
      "Accuracy: 0.71772\n",
      "Precision: 0.7037203383486788\n",
      "Recall: 0.75208\n",
      "F1 Score: 0.7270969488379287\n"
     ]
    }
   ],
   "source": [
    "# Get Prediction RNN Dropout\n",
    "Prediction_RNN_dropout = model.predict(X_test)\n",
    "# get performance using custom function, calls array to set binary 1 and 0 if probability is greater than 0.50 in array\n",
    "print(\"Accuracy of RNN Dropout Prediction\")\n",
    "RNN_Dropout_perform = custom_acc_function(y_test, Prediction_RNN_dropout)"
   ],
   "metadata": {
    "collapsed": false,
    "pycharm": {
     "name": "#%%\n"
    }
   }
  },
  {
   "cell_type": "code",
   "execution_count": 50,
   "outputs": [
    {
     "name": "stdout",
     "output_type": "stream",
     "text": [
      "Model: \"sequential_8\"\n",
      "_________________________________________________________________\n",
      " Layer (type)                Output Shape              Param #   \n",
      "=================================================================\n",
      " embedding_8 (Embedding)     (None, 500, 32)           160000    \n",
      "                                                                 \n",
      " bidirectional_1 (Bidirectio  (None, 200)              26600     \n",
      " nal)                                                            \n",
      "                                                                 \n",
      " dense_5 (Dense)             (None, 1)                 201       \n",
      "                                                                 \n",
      "=================================================================\n",
      "Total params: 186,801\n",
      "Trainable params: 186,801\n",
      "Non-trainable params: 0\n",
      "_________________________________________________________________\n",
      "None\n",
      "Epoch 1/3\n",
      "391/391 [==============================] - 90s 228ms/step - loss: 0.7110 - accuracy: 0.5011\n",
      "Epoch 2/3\n",
      "391/391 [==============================] - 89s 227ms/step - loss: 0.6998 - accuracy: 0.5004\n",
      "Epoch 3/3\n",
      "391/391 [==============================] - 88s 225ms/step - loss: 0.6978 - accuracy: 0.4992\n",
      "Accuracy: 49.80%\n"
     ]
    }
   ],
   "source": [
    "#Finally RNN using Bi-directional Methods\n",
    "\n",
    "# RNN with dropout for sequence classification in the IMDB dataset\n",
    "# fix random seed for reproducibility\n",
    "tf.random.set_seed(7)\n",
    "# load the dataset but only keep the top n words, zero the rest\n",
    "top_words = 5000\n",
    "(X_train, y_train), (X_test, y_test) = imdb.load_data(num_words=top_words)\n",
    "# truncate and pad input sequences\n",
    "max_review_length = 500\n",
    "X_train = sequence.pad_sequences(X_train, maxlen=max_review_length)\n",
    "X_test = sequence.pad_sequences(X_test, maxlen=max_review_length)\n",
    "# create the model\n",
    "embedding_vecor_length = 32\n",
    "model = Sequential()\n",
    "model.add(Embedding(top_words, embedding_vecor_length, input_length=max_review_length))\n",
    "model.add(Bidirectional(SimpleRNN(100, dropout=0.2, recurrent_dropout=0.2)))\n",
    "model.add(Dense(1, activation='sigmoid'))\n",
    "model.compile(loss='binary_crossentropy', optimizer='adam', metrics=['accuracy'])\n",
    "print(model.summary())\n",
    "model.fit(X_train, y_train, epochs=3, batch_size=64)\n",
    "# Final evaluation of the model\n",
    "scores = model.evaluate(X_test, y_test, verbose=0)\n",
    "print(\"Accuracy: %.2f%%\" % (scores[1] * 100))"
   ],
   "metadata": {
    "collapsed": false,
    "pycharm": {
     "name": "#%%\n"
    }
   }
  },
  {
   "cell_type": "code",
   "execution_count": 51,
   "outputs": [
    {
     "name": "stdout",
     "output_type": "stream",
     "text": [
      "782/782 [==============================] - 16s 20ms/step\n",
      "Accuracy of RNN Bidirectional Prediction\n",
      "Accuracy: 0.498\n",
      "Precision: 0.4989567684860624\n",
      "Recall: 0.95656\n",
      "F1 Score: 0.655824923211935\n"
     ]
    }
   ],
   "source": [
    "# Get Prediction RNN Bidirectional\n",
    "Prediction_RNN_bidirectional = model.predict(X_test)\n",
    "# get performance using custom function, calls array to set binary 1 and 0 if probability is greater than 0.50 in array\n",
    "print(\"Accuracy of RNN Bidirectional Prediction\")\n",
    "RNN_bidirectional_perform = custom_acc_function(y_test, Prediction_RNN_bidirectional)"
   ],
   "metadata": {
    "collapsed": false,
    "pycharm": {
     "name": "#%%\n"
    }
   }
  },
  {
   "cell_type": "code",
   "execution_count": 52,
   "outputs": [],
   "source": [
    "#### GRU Methods ########"
   ],
   "metadata": {
    "collapsed": false,
    "pycharm": {
     "name": "#%%\n"
    }
   }
  },
  {
   "cell_type": "code",
   "execution_count": 53,
   "outputs": [
    {
     "name": "stdout",
     "output_type": "stream",
     "text": [
      "Model: \"sequential_9\"\n",
      "_________________________________________________________________\n",
      " Layer (type)                Output Shape              Param #   \n",
      "=================================================================\n",
      " embedding_9 (Embedding)     (None, 500, 32)           160000    \n",
      "                                                                 \n",
      " gru (GRU)                   (None, 100)               40200     \n",
      "                                                                 \n",
      " dense_6 (Dense)             (None, 1)                 101       \n",
      "                                                                 \n",
      "=================================================================\n",
      "Total params: 200,301\n",
      "Trainable params: 200,301\n",
      "Non-trainable params: 0\n",
      "_________________________________________________________________\n",
      "None\n",
      "Epoch 1/3\n",
      "391/391 [==============================] - 315s 802ms/step - loss: 0.4796 - accuracy: 0.7546\n",
      "Epoch 2/3\n",
      "391/391 [==============================] - 311s 796ms/step - loss: 0.2901 - accuracy: 0.8842\n",
      "Epoch 3/3\n",
      "391/391 [==============================] - 306s 783ms/step - loss: 0.2297 - accuracy: 0.9114\n",
      "Accuracy: 88.22%\n"
     ]
    }
   ],
   "source": [
    "# Standard GRU method\n",
    "\n",
    "# GRU for sequence classification in the IMDB dataset\n",
    "import tensorflow as tf\n",
    "from tensorflow.keras.datasets import imdb\n",
    "from tensorflow.keras.models import Sequential\n",
    "from tensorflow.keras.layers import Dense\n",
    "from tensorflow.keras.layers import GRU\n",
    "from tensorflow.keras.layers import Embedding\n",
    "from tensorflow.keras.preprocessing import sequence\n",
    "\n",
    "# fix random seed for reproducibility\n",
    "tf.random.set_seed(7)\n",
    "# load the dataset but only keep the top n words, zero the rest\n",
    "top_words = 5000\n",
    "(X_train, y_train), (X_test, y_test) = imdb.load_data(num_words=top_words)\n",
    "# truncate and pad input sequences\n",
    "max_review_length = 500\n",
    "X_train = sequence.pad_sequences(X_train, maxlen=max_review_length)\n",
    "X_test = sequence.pad_sequences(X_test, maxlen=max_review_length)\n",
    "# create the model\n",
    "embedding_vecor_length = 32\n",
    "model = Sequential()\n",
    "model.add(Embedding(top_words, embedding_vecor_length, input_length=max_review_length))\n",
    "model.add(GRU(100))\n",
    "model.add(Dense(1, activation='sigmoid'))\n",
    "model.compile(loss='binary_crossentropy', optimizer='adam', metrics=['accuracy'])\n",
    "print(model.summary())\n",
    "model.fit(X_train, y_train, epochs=3, batch_size=64)\n",
    "# Final evaluation of the model\n",
    "scores = model.evaluate(X_test, y_test, verbose=0)  #tells the loss and accuracy of the function called\n",
    "print(\"Accuracy: %.2f%%\" % (scores[1] * 100))\n"
   ],
   "metadata": {
    "collapsed": false,
    "pycharm": {
     "name": "#%%\n"
    }
   }
  },
  {
   "cell_type": "code",
   "execution_count": 54,
   "outputs": [
    {
     "name": "stdout",
     "output_type": "stream",
     "text": [
      "782/782 [==============================] - 30s 38ms/step\n",
      "Accuracy of GRU Classic Prediction\n",
      "Accuracy: 0.8822\n",
      "Precision: 0.8597785977859779\n",
      "Recall: 0.91336\n",
      "F1 Score: 0.8857597269094999\n"
     ]
    }
   ],
   "source": [
    "# Get Prediction RNN Classic\n",
    "Prediction_GRU_Classic = model.predict(X_test)\n",
    "# get performance using custom function, calls array to set binary 1 and 0 if probability is greater than 0.50 in array\n",
    "print(\"Accuracy of GRU Classic Prediction\")\n",
    "GRU_classic_perform = custom_acc_function(y_test, Prediction_GRU_Classic)\n"
   ],
   "metadata": {
    "collapsed": false,
    "pycharm": {
     "name": "#%%\n"
    }
   }
  },
  {
   "cell_type": "code",
   "execution_count": 55,
   "outputs": [
    {
     "name": "stdout",
     "output_type": "stream",
     "text": [
      "Model: \"sequential_10\"\n",
      "_________________________________________________________________\n",
      " Layer (type)                Output Shape              Param #   \n",
      "=================================================================\n",
      " embedding_10 (Embedding)    (None, 500, 32)           160000    \n",
      "                                                                 \n",
      " dropout_4 (Dropout)         (None, 500, 32)           0         \n",
      "                                                                 \n",
      " gru_1 (GRU)                 (None, 100)               40200     \n",
      "                                                                 \n",
      " dropout_5 (Dropout)         (None, 100)               0         \n",
      "                                                                 \n",
      " dense_7 (Dense)             (None, 1)                 101       \n",
      "                                                                 \n",
      "=================================================================\n",
      "Total params: 200,301\n",
      "Trainable params: 200,301\n",
      "Non-trainable params: 0\n",
      "_________________________________________________________________\n",
      "None\n",
      "Epoch 1/3\n",
      "391/391 [==============================] - 258s 658ms/step - loss: 0.4896 - accuracy: 0.7572\n",
      "Epoch 2/3\n",
      "391/391 [==============================] - 257s 657ms/step - loss: 0.3028 - accuracy: 0.8740\n",
      "Epoch 3/3\n",
      "391/391 [==============================] - 261s 669ms/step - loss: 0.2424 - accuracy: 0.9041\n",
      "Accuracy: 87.91%\n"
     ]
    }
   ],
   "source": [
    "# GRU with dropout\n",
    "#GRU Using Drop Out Layers\n",
    "\n",
    "# create the model\n",
    "embedding_vecor_length = 32\n",
    "model = Sequential()\n",
    "model.add(Embedding(top_words, embedding_vecor_length, input_length=max_review_length))\n",
    "model.add(Dropout(0.2))\n",
    "model.add(GRU(100))\n",
    "model.add(Dropout(0.2))\n",
    "model.add(Dense(1, activation='sigmoid'))\n",
    "model.compile(loss='binary_crossentropy', optimizer='adam', metrics=['accuracy'])\n",
    "print(model.summary())\n",
    "model.fit(X_train, y_train, epochs=3, batch_size=64)\n",
    "# Final evaluation of the model\n",
    "scores = model.evaluate(X_test, y_test, verbose=0)\n",
    "print(\"Accuracy: %.2f%%\" % (scores[1] * 100))"
   ],
   "metadata": {
    "collapsed": false,
    "pycharm": {
     "name": "#%%\n"
    }
   }
  },
  {
   "cell_type": "code",
   "execution_count": 56,
   "outputs": [
    {
     "name": "stdout",
     "output_type": "stream",
     "text": [
      "782/782 [==============================] - 32s 41ms/step\n",
      "Accuracy of GRU Dropout Prediction\n",
      "Accuracy: 0.87908\n",
      "Precision: 0.8551832696199685\n",
      "Recall: 0.91272\n",
      "F1 Score: 0.8830153631825393\n"
     ]
    }
   ],
   "source": [
    "# Get Prediction GRU Dropout\n",
    "Prediction_GRU_dropout = model.predict(X_test)\n",
    "# get performance using custom function, calls array to set binary 1 and 0 if probability is greater than 0.50 in array\n",
    "print(\"Accuracy of GRU Dropout Prediction\")\n",
    "GRU_Dropout_perform = custom_acc_function(y_test, Prediction_GRU_dropout)"
   ],
   "metadata": {
    "collapsed": false,
    "pycharm": {
     "name": "#%%\n"
    }
   }
  },
  {
   "cell_type": "code",
   "execution_count": 57,
   "outputs": [
    {
     "name": "stdout",
     "output_type": "stream",
     "text": [
      "Model: \"sequential_11\"\n",
      "_________________________________________________________________\n",
      " Layer (type)                Output Shape              Param #   \n",
      "=================================================================\n",
      " embedding_11 (Embedding)    (None, 500, 32)           160000    \n",
      "                                                                 \n",
      " bidirectional_2 (Bidirectio  (None, 200)              80400     \n",
      " nal)                                                            \n",
      "                                                                 \n",
      " dense_8 (Dense)             (None, 1)                 201       \n",
      "                                                                 \n",
      "=================================================================\n",
      "Total params: 240,601\n",
      "Trainable params: 240,601\n",
      "Non-trainable params: 0\n",
      "_________________________________________________________________\n",
      "None\n",
      "Epoch 1/3\n",
      "391/391 [==============================] - 841s 2s/step - loss: 0.4993 - accuracy: 0.7526\n",
      "Epoch 2/3\n",
      "391/391 [==============================] - 926s 2s/step - loss: 0.3204 - accuracy: 0.8696\n",
      "Epoch 3/3\n",
      "391/391 [==============================] - 952s 2s/step - loss: 0.3015 - accuracy: 0.8799\n",
      "Accuracy: 86.36%\n"
     ]
    }
   ],
   "source": [
    "#Finally GRU using Bi-directional Methods\n",
    "\n",
    "# GRU with dropout for sequence classification in the IMDB dataset\n",
    "# fix random seed for reproducibility\n",
    "tf.random.set_seed(7)\n",
    "# load the dataset but only keep the top n words, zero the rest\n",
    "top_words = 5000\n",
    "(X_train, y_train), (X_test, y_test) = imdb.load_data(num_words=top_words)\n",
    "# truncate and pad input sequences\n",
    "max_review_length = 500\n",
    "X_train = sequence.pad_sequences(X_train, maxlen=max_review_length)\n",
    "X_test = sequence.pad_sequences(X_test, maxlen=max_review_length)\n",
    "# create the model\n",
    "embedding_vecor_length = 32\n",
    "model = Sequential()\n",
    "model.add(Embedding(top_words, embedding_vecor_length, input_length=max_review_length))\n",
    "model.add(Bidirectional(GRU(100, dropout=0.2, recurrent_dropout=0.2)))\n",
    "model.add(Dense(1, activation='sigmoid'))\n",
    "model.compile(loss='binary_crossentropy', optimizer='adam', metrics=['accuracy'])\n",
    "print(model.summary())\n",
    "model.fit(X_train, y_train, epochs=3, batch_size=64)\n",
    "# Final evaluation of the model\n",
    "scores = model.evaluate(X_test, y_test, verbose=0)\n",
    "print(\"Accuracy: %.2f%%\" % (scores[1] * 100))"
   ],
   "metadata": {
    "collapsed": false,
    "pycharm": {
     "name": "#%%\n"
    }
   }
  },
  {
   "cell_type": "code",
   "execution_count": 58,
   "outputs": [
    {
     "name": "stdout",
     "output_type": "stream",
     "text": [
      "782/782 [==============================] - 164s 209ms/step\n",
      "Accuracy of GRU Bidirectional Prediction\n",
      "Accuracy: 0.8636\n",
      "Precision: 0.8480624904273243\n",
      "Recall: 0.88592\n",
      "F1 Score: 0.8665779794976134\n"
     ]
    }
   ],
   "source": [
    "# Get Prediction GRU Bidirectional\n",
    "Prediction_GRU_bidirectional = model.predict(X_test)\n",
    "# get performance using custom function, calls array to set binary 1 and 0 if probability is greater than 0.50 in array\n",
    "print(\"Accuracy of GRU Bidirectional Prediction\")\n",
    "GRU_bidirectional_perform = custom_acc_function(y_test, Prediction_GRU_bidirectional)"
   ],
   "metadata": {
    "collapsed": false,
    "pycharm": {
     "name": "#%%\n"
    }
   }
  }
 ],
 "metadata": {
  "kernelspec": {
   "display_name": "Python 3",
   "language": "python",
   "name": "python3"
  },
  "language_info": {
   "codemirror_mode": {
    "name": "ipython",
    "version": 2
   },
   "file_extension": ".py",
   "mimetype": "text/x-python",
   "name": "python",
   "nbconvert_exporter": "python",
   "pygments_lexer": "ipython2",
   "version": "2.7.6"
  }
 },
 "nbformat": 4,
 "nbformat_minor": 0
}