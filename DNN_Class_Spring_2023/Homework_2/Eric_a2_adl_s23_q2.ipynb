{
 "cells": [
  {
   "cell_type": "code",
   "execution_count": 184,
   "metadata": {
    "collapsed": true,
    "pycharm": {
     "name": "#%%\n"
    }
   },
   "outputs": [],
   "source": [
    "import numpy as np\n",
    "import pandas as pd\n",
    "#% tensorflow_version 1.x\n",
    "import tensorflow as tf\n",
    "import random\n",
    "import matplotlib.pyplot as plt\n",
    "import sklearn\n",
    "import sklearn.metrics\n",
    "\n",
    "print(tf.__version__)\n",
    "\n",
    "#set random values\n",
    "seed = 1\n",
    "random.seed(seed)\n",
    "tf.random.set_seed(seed)\n",
    "np.random.seed(seed)"
   ]
  },
  {
   "cell_type": "code",
   "execution_count": 185,
   "outputs": [],
   "source": [
    "#MNIST: loading, splitting, and reshaping\n",
    "mnist = tf.keras.datasets.mnist\n",
    "(training_images, training_labels), (test_images, test_labels) = mnist.load_data()\n",
    "training_images = training_images.reshape(60000, 28, 28, 1)\n",
    "training_images = training_images / 255.0\n",
    "test_images = test_images.reshape(10000, 28, 28, 1)\n",
    "test_images = test_images / 255.0\n",
    "\n",
    "#change labels of dataset for binary classification, 3 not three\n",
    "binary_train_labels = np.zeros([len(training_labels)])\n",
    "binary_test_labels = np.zeros([len(test_labels)])\n",
    "for i in range(len(training_labels)):\n",
    "    val = training_labels[i]\n",
    "    if (val == 3):\n",
    "        binary_train_labels[i] = 1\n",
    "    else:\n",
    "        binary_train_labels[i] = 0\n",
    "for j in range(len(test_labels)):\n",
    "    val = test_labels[j]\n",
    "    if (val == 3):\n",
    "        binary_test_labels[j] = 1\n",
    "    else:\n",
    "        binary_test_labels[j] = 0"
   ],
   "metadata": {
    "collapsed": false,
    "pycharm": {
     "name": "#%%\n"
    }
   }
  },
  {
   "cell_type": "code",
   "execution_count": 186,
   "outputs": [],
   "source": [
    "#Convnet architecture definition\n",
    "\n",
    "# *One convolution layer(32 filters of shape(3, 3) with ReLU)\n",
    "# *One max - pooling layer(filter shape: (2, 2))\n",
    "# *One fully connected layer(128 units; ReLU activation)\n",
    "# *10 output units(softmax layer)\n",
    "\n",
    "\n",
    "model = tf.keras.models.Sequential([\n",
    "    tf.keras.layers.Conv2D(32, (3, 3), activation='relu', input_shape=(28, 28, 1)),\n",
    "    tf.keras.layers.MaxPooling2D(2, 2),\n",
    "    tf.keras.layers.Flatten(),\n",
    "    tf.keras.layers.Dense(128, activation='relu'),\n",
    "    #change last layer to give soft max of three not three\n",
    "    tf.keras.layers.Dense(2, activation='softmax'),\n",
    "])"
   ],
   "metadata": {
    "collapsed": false,
    "pycharm": {
     "name": "#%%\n"
    }
   }
  },
  {
   "cell_type": "code",
   "execution_count": null,
   "outputs": [],
   "source": [
    "#Model training\n",
    "model.compile(optimizer='adam', loss='sparse_categorical_crossentropy', metrics=['accuracy'])\n",
    "model.fit(training_images, binary_train_labels, epochs=5)"
   ],
   "metadata": {
    "collapsed": false,
    "pycharm": {
     "name": "#%%\n",
     "is_executing": true
    }
   }
  },
  {
   "cell_type": "code",
   "execution_count": null,
   "outputs": [],
   "source": [
    "#Evaluation with test data\n",
    "test_loss, test_acc = model.evaluate(test_images, binary_test_labels)\n",
    "print(test_acc)\n",
    "Predicted_percent = model.predict(test_images)\n",
    "Predicted_labels = np.zeros(len(Predicted_percent))\n",
    "#change the value of Predicted_Labels\n",
    "for i in range(len(Predicted_percent)):\n",
    "    if Predicted_percent[i,0] == np.max(Predicted_percent[i,:]):\n",
    "        Predicted_labels[i] = 0\n",
    "    else:\n",
    "        Predicted_labels[i] = 1\n",
    "\n",
    "print(Predicted_labels[:60])\n",
    "print(Predicted_percent[18])"
   ],
   "metadata": {
    "collapsed": false,
    "pycharm": {
     "name": "#%%\n",
     "is_executing": true
    }
   }
  },
  {
   "cell_type": "code",
   "execution_count": null,
   "outputs": [],
   "source": [
    "#Visualize 10 examples and labels random from the input information\n",
    "entrynumber = np.random.randint(0,len(Predicted_percent),size=10)\n",
    "plt.figure(figsize=(20,10))\n",
    "for i in range(len(entrynumber)):\n",
    "    entry = entrynumber[i]\n",
    "    plt.subplot(2,5,i+1)\n",
    "    plt.title(f\"Predicted Label:{Predicted_labels[entry]}  Actual Label:{binary_test_labels[entry]}\")\n",
    "    plt.imshow(np.squeeze(test_images[entry]), cmap=plt.get_cmap('gray'))"
   ],
   "metadata": {
    "collapsed": false,
    "pycharm": {
     "name": "#%%\n",
     "is_executing": true
    }
   }
  },
  {
   "cell_type": "code",
   "execution_count": null,
   "outputs": [],
   "source": [
    "#Report the Accuracy of the model: Accuracy, precision, recall, and F1\n",
    "#Final model results\n",
    "print(\"Final Accuracy Values:\")\n",
    "\n",
    "acc = (sklearn.metrics.accuracy_score(binary_test_labels,Predicted_labels))\n",
    "precision = (sklearn.metrics.precision_score(binary_test_labels,Predicted_labels))\n",
    "recall = (sklearn.metrics.recall_score(binary_test_labels,Predicted_labels))\n",
    "f1 = (sklearn.metrics.f1_score(binary_test_labels,Predicted_labels))\n",
    "print(f\"Accuracy: {acc}\")\n",
    "print(f\"Precision: {precision}\")\n",
    "print(f\"Recall: {recall}\")\n",
    "print(f\"F1 Score: {f1}\")\n",
    "\n",
    "print(\"The original Network does quite well as is, I personally would be happy with these scores\\nfor the sake of the problem asked I will go through a hyper parameter sweep testing other values\")\n"
   ],
   "metadata": {
    "collapsed": false,
    "pycharm": {
     "name": "#%%\n",
     "is_executing": true
    }
   }
  },
  {
   "cell_type": "code",
   "execution_count": null,
   "outputs": [],
   "source": [
    "#Training the model with the best parameters for highest accuracy:\n",
    "print(\"Results of the best preforming network\")\n",
    "print(\"Hyperparameters were choosen due to high performance in the hyperparameter sweep.\\n I did not change the network structure due to the high performance, \\n\"\n",
    "      \"the network was performing at ACC: 0.998 and i did not believe tuning the network structure would give the additional 0.002 desired. \\n This is why i choose to keep the network the same, but tune the hyperparameters to get bettter results. \\n the network did see increase in the F1 score, recall and precision\")\n",
    "#From the hyperparameter results the best preforming network structure are\n",
    "\n",
    "#Learning Rate: 0.001\n",
    "#Beta 1 Value: 0.99\n",
    "#Beta 2 Value: 0.99\n",
    "#Epcoh Value: 8\n",
    "\n",
    "model = tf.keras.models.Sequential([\n",
    "    tf.keras.layers.Conv2D(32, (3, 3), activation='relu', input_shape=(28, 28, 1)),\n",
    "    tf.keras.layers.MaxPooling2D(2, 2),\n",
    "    tf.keras.layers.Flatten(),\n",
    "    tf.keras.layers.Dense(128, activation='relu'),\n",
    "    #change last layer to give soft max of three not three\n",
    "    tf.keras.layers.Dense(2, activation='softmax'),\n",
    "    ])\n",
    "#Model training\n",
    "model.compile(optimizer=tf.keras.optimizers.Adam(learning_rate=0.001,beta_1=0.99,beta_2=0.99), loss='sparse_categorical_crossentropy', metrics=['accuracy'])\n",
    "model.fit(training_images, binary_train_labels, epochs=8)\n",
    "\n",
    "\n",
    "#Evaluation with test data\n",
    "test_loss, test_acc = model.evaluate(test_images, binary_test_labels)\n",
    "print(test_acc)\n",
    "Predicted_percent = model.predict(test_images)\n",
    "Predicted_labels = np.zeros(len(Predicted_percent))\n",
    "#change the value of Predicted_Labels\n",
    "for i in range(len(Predicted_percent)):\n",
    "    if Predicted_percent[i,0] == np.max(Predicted_percent[i,:]):\n",
    "        Predicted_labels[i] = 0\n",
    "    else:\n",
    "        Predicted_labels[i] = 1\n",
    "\n",
    "print(f\"Final Accuracy Values: Best Performing Network\")\n",
    "\n",
    "acc = (sklearn.metrics.accuracy_score(binary_test_labels,Predicted_labels))\n",
    "precision = (sklearn.metrics.precision_score(binary_test_labels,Predicted_labels))\n",
    "recall = (sklearn.metrics.recall_score(binary_test_labels,Predicted_labels))\n",
    "f1 = (sklearn.metrics.f1_score(binary_test_labels,Predicted_labels))\n",
    "print(f\"Accuracy: {acc}\")\n",
    "print(f\"Precision: {precision}\")\n",
    "print(f\"Recall: {recall}\")\n",
    "print(f\"F1 Score: {f1}\")\n",
    "\n",
    "#Visualize 10 examples and labels random from the input information\n",
    "entrynumber = np.random.randint(0,len(Predicted_percent),size=10)\n",
    "plt.figure(figsize=(20,10))\n",
    "for i in range(len(entrynumber)):\n",
    "    entry = entrynumber[i]\n",
    "    plt.subplot(2,5,i+1)\n",
    "    plt.title(f\"Predicted Label:{Predicted_labels[entry]}  Actual Label:{binary_test_labels[entry]}\")\n",
    "    plt.imshow(np.squeeze(test_images[entry]), cmap=plt.get_cmap('gray'))"
   ],
   "metadata": {
    "collapsed": false,
    "pycharm": {
     "name": "#%%\n",
     "is_executing": true
    }
   }
  },
  {
   "cell_type": "code",
   "execution_count": null,
   "outputs": [],
   "source": [
    "#going through a hyper parameter sweep: grid search method for Beta1, Beta2, and Learning Rate\n",
    "\n",
    "Hyperparameter_sweep = False\n",
    "#define function for all operations required dependent on hyperparameters\n",
    "if Hyperparameter_sweep:\n",
    "    learningrate = [0.01,0.001,0.0001]\n",
    "    beta1 = [0.9,0.99,0.999]\n",
    "    beta2 = [0.9,0.99]\n",
    "    epochlist = [5,8,10]\n",
    "    fulllist = pd.DataFrame([['details','acc','precision','recall','f1']])\n",
    "    for i in range(len(learningrate)):\n",
    "        alpha = learningrate[i]\n",
    "        for j in range(len(beta1)):\n",
    "            beta1val = beta1[j]\n",
    "            for k in range(len(beta2)):\n",
    "                beta2val = beta2[k]\n",
    "                for q in range(len(epochlist)):\n",
    "                    epochnum = epochlist[q]\n",
    "                    #model set up\n",
    "                    model = tf.keras.models.Sequential([\n",
    "                        tf.keras.layers.Conv2D(32, (3, 3), activation='relu', input_shape=(28, 28, 1)),\n",
    "                        tf.keras.layers.MaxPooling2D(2, 2),\n",
    "                        tf.keras.layers.Flatten(),\n",
    "                        tf.keras.layers.Dense(128, activation='relu'),\n",
    "                        #change last layer to give soft max of three not three\n",
    "                        tf.keras.layers.Dense(2, activation='softmax'),\n",
    "                    ])\n",
    "                    #Model training\n",
    "                    model.compile(optimizer=tf.keras.optimizers.Adam(learning_rate=alpha,beta_1=beta1val,beta_2=beta2val), loss='sparse_categorical_crossentropy', metrics=['accuracy'])\n",
    "                    model.fit(training_images, binary_train_labels, epochs=epochnum)\n",
    "\n",
    "\n",
    "                    #Evaluation with test data\n",
    "                    test_loss, test_acc = model.evaluate(test_images, binary_test_labels)\n",
    "                    print(test_acc)\n",
    "                    Predicted_percent = model.predict(test_images)\n",
    "                    Predicted_labels = np.zeros(len(Predicted_percent))\n",
    "                    #change the value of Predicted_Labels\n",
    "                    for i in range(len(Predicted_percent)):\n",
    "                        if Predicted_percent[i,0] == np.max(Predicted_percent[i,:]):\n",
    "                            Predicted_labels[i] = 0\n",
    "                        else:\n",
    "                            Predicted_labels[i] = 1\n",
    "\n",
    "                    print(f\"Final Accuracy Values: LR:{alpha} B_1:{beta1val} B_2: {beta2val} Epoch: {epochnum}\")\n",
    "\n",
    "                    acc = (sklearn.metrics.accuracy_score(binary_test_labels,Predicted_labels))\n",
    "                    precision = (sklearn.metrics.precision_score(binary_test_labels,Predicted_labels))\n",
    "                    recall = (sklearn.metrics.recall_score(binary_test_labels,Predicted_labels))\n",
    "                    f1 = (sklearn.metrics.f1_score(binary_test_labels,Predicted_labels))\n",
    "                    print(f\"Accuracy: {acc}\")\n",
    "                    print(f\"Precision: {precision}\")\n",
    "                    print(f\"Recall: {recall}\")\n",
    "                    print(f\"F1 Score: {f1}\")\n",
    "                    details = f'LR:{alpha} B_1:{beta1val} B_2: {beta2val} Epoch: {epochnum}'\n",
    "                    infolist = pd.DataFrame([[details,acc,precision,recall,f1]])\n",
    "                    fulllist = fulllist.append(infolist)\n",
    "                    print(fulllist)"
   ],
   "metadata": {
    "collapsed": false,
    "pycharm": {
     "name": "#%%\n",
     "is_executing": true
    }
   }
  },
  {
   "cell_type": "code",
   "execution_count": null,
   "outputs": [],
   "source": [
    "#save the full list file as a CSV to get data out\n",
    "\n",
    "fulllist.to_csv(\"HyperParamter_Information_1.csv\")\n"
   ],
   "metadata": {
    "collapsed": false,
    "pycharm": {
     "name": "#%%\n",
     "is_executing": true
    }
   }
  },
  {
   "cell_type": "code",
   "execution_count": null,
   "outputs": [],
   "source": [],
   "metadata": {
    "collapsed": false,
    "pycharm": {
     "name": "#%%\n",
     "is_executing": true
    }
   }
  }
 ],
 "metadata": {
  "kernelspec": {
   "display_name": "Python 3",
   "language": "python",
   "name": "python3"
  },
  "language_info": {
   "codemirror_mode": {
    "name": "ipython",
    "version": 2
   },
   "file_extension": ".py",
   "mimetype": "text/x-python",
   "name": "python",
   "nbconvert_exporter": "python",
   "pygments_lexer": "ipython2",
   "version": "2.7.6"
  }
 },
 "nbformat": 4,
 "nbformat_minor": 0
}