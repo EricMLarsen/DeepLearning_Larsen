{
 "nbformat": 4,
 "nbformat_minor": 0,
 "metadata": {
  "colab": {
   "name": "Conv_mnist.ipynb",
   "provenance": []
  },
  "kernelspec": {
   "name": "python3",
   "display_name": "Python 3"
  }
 },
 "cells": [
  {
   "cell_type": "code",
   "metadata": {
    "id": "fEoF9aFG2EAe",
    "pycharm": {
     "name": "#%%\n"
    }
   },
   "source": [
    "%tensorflow_version 1.x\n",
    "import tensorflow as tf\n",
    "print(tf.__version__)"
   ],
   "execution_count": 1,
   "outputs": [
    {
     "name": "stderr",
     "output_type": "stream",
     "text": [
      "UsageError: Line magic function `%tensorflow_version` not found.\n"
     ]
    }
   ]
  },
  {
   "cell_type": "markdown",
   "metadata": {
    "id": "Tebfm9bH2QvX",
    "pycharm": {
     "name": "#%% md\n"
    }
   },
   "source": [
    "#MNIST: loading, splitting, and reshaping"
   ]
  },
  {
   "cell_type": "code",
   "metadata": {
    "id": "jWMq-Le02IgY",
    "pycharm": {
     "name": "#%%\n"
    }
   },
   "source": [
    "mnist = tf.keras.datasets.mnist\n",
    "(training_images, training_labels), (test_images, test_labels) = mnist.load_data()\n",
    "training_images=training_images.reshape(60000, 28, 28, 1)\n",
    "training_images=training_images / 255.0\n",
    "test_images = test_images.reshape(10000, 28, 28, 1)\n",
    "test_images=test_images/255.0"
   ],
   "execution_count": null,
   "outputs": []
  },
  {
   "cell_type": "markdown",
   "metadata": {
    "id": "5uiCRekF2fLu",
    "pycharm": {
     "name": "#%% md\n"
    }
   },
   "source": [
    "#Convnet architecture definition\n",
    "\n",
    "*   One convolution layer (32 filters of shape (3,3) with ReLU)\n",
    "*   One max-pooling layer (filter shape: (2,2))\n",
    "*   One fully connected layer (128 units; ReLU activation)\n",
    "*   10 output units (softmax layer)\n",
    "\n"
   ]
  },
  {
   "cell_type": "code",
   "metadata": {
    "id": "45VaNEYk2YJ1",
    "pycharm": {
     "name": "#%%\n"
    }
   },
   "source": [
    "model = tf.keras.models.Sequential([\n",
    "  tf.keras.layers.Conv2D(32, (3,3), activation='relu', input_shape=(28, 28, 1)),\n",
    "  tf.keras.layers.MaxPooling2D(2, 2),\n",
    "  tf.keras.layers.Flatten(),\n",
    "  tf.keras.layers.Dense(128, activation='relu'),\n",
    "  tf.keras.layers.Dense(10, activation='softmax')\n",
    "])"
   ],
   "execution_count": null,
   "outputs": []
  },
  {
   "cell_type": "markdown",
   "metadata": {
    "id": "o2CGInlf3PVE",
    "pycharm": {
     "name": "#%% md\n"
    }
   },
   "source": [
    "#Model training"
   ]
  },
  {
   "cell_type": "code",
   "metadata": {
    "id": "QXXCdw783VNX",
    "pycharm": {
     "name": "#%%\n"
    }
   },
   "source": [
    "model.compile(optimizer='adam', loss='sparse_categorical_crossentropy', metrics=['accuracy'])\n",
    "model.fit(training_images, training_labels, epochs=10)"
   ],
   "execution_count": null,
   "outputs": []
  },
  {
   "cell_type": "markdown",
   "metadata": {
    "id": "51YjudQv3bz_",
    "pycharm": {
     "name": "#%% md\n"
    }
   },
   "source": [
    "#Evaluation with test data"
   ]
  },
  {
   "cell_type": "code",
   "metadata": {
    "id": "Mjp2-0eU3fjM",
    "pycharm": {
     "name": "#%%\n"
    }
   },
   "source": [
    "test_loss, test_acc = model.evaluate(test_images, test_labels)\n",
    "print(test_acc)"
   ],
   "execution_count": null,
   "outputs": []
  }
 ]
}