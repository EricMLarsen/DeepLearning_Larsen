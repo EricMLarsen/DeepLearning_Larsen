{
 "nbformat": 4,
 "nbformat_minor": 0,
 "metadata": {
  "colab": {
   "provenance": []
  },
  "kernelspec": {
   "name": "python3",
   "display_name": "Python 3"
  }
 },
 "cells": [
  {
   "cell_type": "markdown",
   "metadata": {
    "id": "jF9k9TS0Ca3N",
    "pycharm": {
     "name": "#%% md\n"
    }
   },
   "source": [
    "Google Colab note:\n",
    "- Check in which folder you are in"
   ]
  },
  {
   "cell_type": "code",
   "metadata": {
    "id": "_Y9GYepwBhxA",
    "outputId": "0c40d2d5-7058-44f0-c247-4932b2f312b0",
    "colab": {
     "base_uri": "https://localhost:8080/"
    },
    "pycharm": {
     "name": "#%%\n"
    }
   },
   "source": [
    "import os\n",
    "print(os.getcwd())"
   ],
   "execution_count": 301,
   "outputs": [
    {
     "name": "stdout",
     "output_type": "stream",
     "text": [
      "C:\\Users\\chees\\Desktop\\USU\\Semester Spring 2023\\Special Topics_Deep Learning\\DeepLearning_Larsen\\DNN_Class_Spring_2023\\Homework_2\n"
     ]
    }
   ]
  },
  {
   "cell_type": "markdown",
   "metadata": {
    "id": "eElp-pybCkd1",
    "pycharm": {
     "name": "#%% md\n"
    }
   },
   "source": [
    "Upload the data file in that folder\n",
    "- It will be deleted after your session"
   ]
  },
  {
   "cell_type": "code",
   "metadata": {
    "id": "OiZjtWNLCxz3",
    "outputId": "ceb1820b-4dd3-4112-9317-47740371ec18",
    "colab": {
     "base_uri": "https://localhost:8080/"
    },
    "pycharm": {
     "name": "#%%\n"
    }
   },
   "source": [
    "%matplotlib inline\n",
    "import numpy as np # linear algebra\n",
    "import pandas as pd # data processing, CSV file I/O (e.g. pd.read_csv)\n",
    "import random\n",
    "import matplotlib.pyplot as plt\n",
    "import tensorflow.compat.v1 as tf\n",
    "tf.disable_v2_behavior()\n",
    "print(print(tf.__version__))"
   ],
   "execution_count": 302,
   "outputs": [
    {
     "name": "stdout",
     "output_type": "stream",
     "text": [
      "2.11.0\n",
      "None\n"
     ]
    }
   ]
  },
  {
   "cell_type": "markdown",
   "metadata": {
    "id": "6CnhRXEtDWt_",
    "pycharm": {
     "name": "#%% md\n"
    }
   },
   "source": [
    "#Read the data\n",
    "- From CSV to Pandas data frame"
   ]
  },
  {
   "cell_type": "code",
   "metadata": {
    "id": "nYDZDt0nC_0c",
    "pycharm": {
     "name": "#%%\n"
    }
   },
   "source": [
    "iris = pd.read_csv('Iris.csv')"
   ],
   "execution_count": 303,
   "outputs": []
  },
  {
   "cell_type": "code",
   "metadata": {
    "id": "UQ0e6InXDS59",
    "outputId": "30e74102-3025-42d0-dfca-f40f6158d078",
    "colab": {
     "base_uri": "https://localhost:8080/"
    },
    "pycharm": {
     "name": "#%%\n"
    }
   },
   "source": [
    "iris.shape"
   ],
   "execution_count": 304,
   "outputs": [
    {
     "data": {
      "text/plain": "(150, 6)"
     },
     "execution_count": 304,
     "metadata": {},
     "output_type": "execute_result"
    }
   ]
  },
  {
   "cell_type": "code",
   "metadata": {
    "id": "NIP1foAIDUoo",
    "outputId": "28c1518d-5098-4004-8880-721ccc44406e",
    "colab": {
     "base_uri": "https://localhost:8080/",
     "height": 206
    },
    "pycharm": {
     "name": "#%%\n"
    }
   },
   "source": [
    "iris.head()"
   ],
   "execution_count": 305,
   "outputs": [
    {
     "data": {
      "text/plain": "   Id  SepalLengthCm  SepalWidthCm  PetalLengthCm  PetalWidthCm      Species\n0   1            5.1           3.5            1.4           0.2  Iris-setosa\n1   2            4.9           3.0            1.4           0.2  Iris-setosa\n2   3            4.7           3.2            1.3           0.2  Iris-setosa\n3   4            4.6           3.1            1.5           0.2  Iris-setosa\n4   5            5.0           3.6            1.4           0.2  Iris-setosa",
      "text/html": "<div>\n<style scoped>\n    .dataframe tbody tr th:only-of-type {\n        vertical-align: middle;\n    }\n\n    .dataframe tbody tr th {\n        vertical-align: top;\n    }\n\n    .dataframe thead th {\n        text-align: right;\n    }\n</style>\n<table border=\"1\" class=\"dataframe\">\n  <thead>\n    <tr style=\"text-align: right;\">\n      <th></th>\n      <th>Id</th>\n      <th>SepalLengthCm</th>\n      <th>SepalWidthCm</th>\n      <th>PetalLengthCm</th>\n      <th>PetalWidthCm</th>\n      <th>Species</th>\n    </tr>\n  </thead>\n  <tbody>\n    <tr>\n      <th>0</th>\n      <td>1</td>\n      <td>5.1</td>\n      <td>3.5</td>\n      <td>1.4</td>\n      <td>0.2</td>\n      <td>Iris-setosa</td>\n    </tr>\n    <tr>\n      <th>1</th>\n      <td>2</td>\n      <td>4.9</td>\n      <td>3.0</td>\n      <td>1.4</td>\n      <td>0.2</td>\n      <td>Iris-setosa</td>\n    </tr>\n    <tr>\n      <th>2</th>\n      <td>3</td>\n      <td>4.7</td>\n      <td>3.2</td>\n      <td>1.3</td>\n      <td>0.2</td>\n      <td>Iris-setosa</td>\n    </tr>\n    <tr>\n      <th>3</th>\n      <td>4</td>\n      <td>4.6</td>\n      <td>3.1</td>\n      <td>1.5</td>\n      <td>0.2</td>\n      <td>Iris-setosa</td>\n    </tr>\n    <tr>\n      <th>4</th>\n      <td>5</td>\n      <td>5.0</td>\n      <td>3.6</td>\n      <td>1.4</td>\n      <td>0.2</td>\n      <td>Iris-setosa</td>\n    </tr>\n  </tbody>\n</table>\n</div>"
     },
     "execution_count": 305,
     "metadata": {},
     "output_type": "execute_result"
    }
   ]
  },
  {
   "cell_type": "markdown",
   "metadata": {
    "id": "IraXKesfElz2",
    "pycharm": {
     "name": "#%% md\n"
    }
   },
   "source": [
    "#Features\n",
    "- Column 1 : id\n",
    "- Columns 2 - 5: features/attributes\n",
    "- Column 6: label"
   ]
  },
  {
   "cell_type": "markdown",
   "metadata": {
    "id": "tDwEeG5xDyk_",
    "pycharm": {
     "name": "#%% md\n"
    }
   },
   "source": [
    "We will to do a binary classification, so we will keep the first 100 rows of data\n",
    "\n",
    "Iris-setosa species is linearly separable from the other two, but the other two are not linearly separable from each other.To keep the species blance Iris-setosa and Iris-versicolor are choosen"
   ]
  },
  {
   "cell_type": "code",
   "metadata": {
    "id": "fed9o0YXVqwP",
    "pycharm": {
     "name": "#%%\n"
    }
   },
   "source": [
    "iris = iris[:100]"
   ],
   "execution_count": 306,
   "outputs": []
  },
  {
   "cell_type": "markdown",
   "metadata": {
    "id": "668Dp3PlEHnF",
    "pycharm": {
     "name": "#%% md\n"
    }
   },
   "source": [
    "#Covert the string lables to numerals"
   ]
  },
  {
   "cell_type": "code",
   "metadata": {
    "id": "51baCEy_Dx2t",
    "colab": {
     "base_uri": "https://localhost:8080/"
    },
    "outputId": "7f8a19a7-c7d4-4168-c861-9a3bd5cc9036",
    "pycharm": {
     "name": "#%%\n"
    }
   },
   "source": [
    "iris.Species = iris.Species.replace(to_replace=['Iris-setosa', 'Iris-versicolor'], value=[0, 1])"
   ],
   "execution_count": 307,
   "outputs": []
  },
  {
   "cell_type": "markdown",
   "metadata": {
    "id": "4svOpInXEY-x",
    "pycharm": {
     "name": "#%% md\n"
    }
   },
   "source": [
    "#Visualize two class examples in 2D space\n",
    "- We simply select first two features"
   ]
  },
  {
   "cell_type": "code",
   "metadata": {
    "id": "RK111QlGDp5p",
    "outputId": "59647ed6-6293-469d-bb7b-e6c6e404fe57",
    "colab": {
     "base_uri": "https://localhost:8080/",
     "height": 300
    },
    "pycharm": {
     "name": "#%%\n"
    }
   },
   "source": [
    "plt.scatter(iris[:50].SepalLengthCm, iris[:50].SepalWidthCm, label='Iris-setosa')\n",
    "plt.scatter(iris[51:].SepalLengthCm, iris[51:].SepalWidthCm, label='Iris-versicolo')\n",
    "plt.xlabel('SepalLength')\n",
    "plt.ylabel('SepalWidth')\n",
    "plt.legend(loc='best')"
   ],
   "execution_count": 308,
   "outputs": [
    {
     "data": {
      "text/plain": "<matplotlib.legend.Legend at 0x17461840ac0>"
     },
     "execution_count": 308,
     "metadata": {},
     "output_type": "execute_result"
    },
    {
     "data": {
      "text/plain": "<Figure size 640x480 with 1 Axes>",
      "image/png": "[encoded data removed]"
     },
     "metadata": {},
     "output_type": "display_data"
    }
   ]
  },
  {
   "cell_type": "markdown",
   "metadata": {
    "id": "Od8-d73gFYmY",
    "pycharm": {
     "name": "#%% md\n"
    }
   },
   "source": [
    "#Define X and y"
   ]
  },
  {
   "cell_type": "code",
   "metadata": {
    "id": "HZ4jczn9FP8H",
    "outputId": "5292e54e-db5e-48f2-ec8f-b459d115bbe7",
    "colab": {
     "base_uri": "https://localhost:8080/"
    },
    "pycharm": {
     "name": "#%%\n"
    }
   },
   "source": [
    "X = iris.drop(labels=['Id', 'Species'], axis=1).values\n",
    "y = iris.Species.values\n",
    "print(\"X shape: \", X.shape, \"y shape: \", y.shape)\n",
    "(m,n) = X.shape\n",
    "print(\"Number of total examples: \", m, \" Number of features: \", n)\n"
   ],
   "execution_count": 309,
   "outputs": [
    {
     "name": "stdout",
     "output_type": "stream",
     "text": [
      "X shape:  (100, 4) y shape:  (100,)\n",
      "Number of total examples:  100  Number of features:  4\n"
     ]
    }
   ]
  },
  {
   "cell_type": "markdown",
   "metadata": {
    "id": "wCJu5CiYF_QO",
    "pycharm": {
     "name": "#%% md\n"
    }
   },
   "source": [
    "#Split data\n",
    "- Train:test (70%:30%)\n",
    "- Initializing the random seeds to regenerate the outputs"
   ]
  },
  {
   "cell_type": "code",
   "metadata": {
    "id": "oRKsQFIEFm0_",
    "pycharm": {
     "name": "#%%\n"
    }
   },
   "source": [
    "seed = 5\n",
    "np.random.seed(seed)\n",
    "tf.set_random_seed(seed)\n",
    "random.seed(seed)\n",
    "train_index = np.random.choice(len(X), round(len(X) * 0.7), replace=False)"
   ],
   "execution_count": 310,
   "outputs": []
  },
  {
   "cell_type": "code",
   "metadata": {
    "id": "NXc9YrS4IyAk",
    "pycharm": {
     "name": "#%%\n"
    }
   },
   "source": [
    "# diff set\n",
    "test_index = np.array(list(set(range(len(X))) - set(train_index)))\n",
    "X_train = X[train_index]\n",
    "y_train = y[train_index]\n",
    "X_test = X[test_index]\n",
    "y_test = y[test_index]"
   ],
   "execution_count": 311,
   "outputs": []
  },
  {
   "cell_type": "markdown",
   "metadata": {
    "id": "IACn0rCQJbnu",
    "pycharm": {
     "name": "#%% md\n"
    }
   },
   "source": [
    "#Normalize\n",
    "- Z normalization: feature_value-mean(feature)/standard_deviation(feature)\n",
    "- Min/max normalization: feature_value - min(feature)/max(feature)-min(feature)\n"
   ]
  },
  {
   "cell_type": "code",
   "metadata": {
    "id": "tso_5M3xJMbD",
    "pycharm": {
     "name": "#%%\n"
    }
   },
   "source": [
    "def z_normalization(feat_val):\n",
    "  feat_mean = np.mean(feat_val, axis=0)\n",
    "  feat_sd = np.std(feat_val, axis=0)\n",
    "  return np.divide(feat_val - feat_mean, feat_sd)"
   ],
   "execution_count": 312,
   "outputs": []
  },
  {
   "cell_type": "code",
   "metadata": {
    "id": "D3h--UQJK9Es",
    "pycharm": {
     "name": "#%%\n"
    }
   },
   "source": [
    "# z normalize\n",
    "X_train = z_normalization(X_train)\n",
    "X_test = z_normalization(X_test)"
   ],
   "execution_count": 313,
   "outputs": []
  },
  {
   "cell_type": "markdown",
   "metadata": {
    "id": "_2biG3vULiQw",
    "pycharm": {
     "name": "#%% md\n"
    }
   },
   "source": [
    "#Weight and bias initialization"
   ]
  },
  {
   "cell_type": "code",
   "metadata": {
    "id": "2B_bg8vGLKjo",
    "pycharm": {
     "name": "#%%\n"
    }
   },
   "source": [
    "W = tf.Variable(tf.random.normal(shape=[n, 1]))\n",
    "b = tf.Variable(tf.random.normal(shape=[1, 1]))\n",
    "init = tf.global_variables_initializer()"
   ],
   "execution_count": 314,
   "outputs": []
  },
  {
   "cell_type": "markdown",
   "metadata": {
    "id": "adA0kkYIOB1B",
    "pycharm": {
     "name": "#%% md\n"
    }
   },
   "source": [
    "#Defining the placeholders"
   ]
  },
  {
   "cell_type": "code",
   "metadata": {
    "id": "8yYkIeR3LuEi",
    "pycharm": {
     "name": "#%%\n"
    }
   },
   "source": [
    "data = tf.placeholder(dtype=tf.float32, shape=[None, n])\n",
    "target = tf.placeholder(dtype=tf.float32, shape=[None, 1])"
   ],
   "execution_count": 315,
   "outputs": []
  },
  {
   "cell_type": "markdown",
   "metadata": {
    "id": "mY3ceyJSRo4W",
    "pycharm": {
     "name": "#%% md\n"
    }
   },
   "source": [
    "#Model definition"
   ]
  },
  {
   "cell_type": "code",
   "metadata": {
    "id": "HXyV3AM9OJFQ",
    "pycharm": {
     "name": "#%%\n"
    }
   },
   "source": [
    "mod = tf.matmul(data, W) + b"
   ],
   "execution_count": 316,
   "outputs": []
  },
  {
   "cell_type": "markdown",
   "metadata": {
    "id": "7-3peh-tR6tT",
    "pycharm": {
     "name": "#%% md\n"
    }
   },
   "source": [
    "#Define loss function"
   ]
  },
  {
   "cell_type": "code",
   "metadata": {
    "id": "cEMUdntNR0fO",
    "pycharm": {
     "name": "#%%\n"
    }
   },
   "source": [
    "#first doing a sigmoid on the model result and then using the cross-entropy loss function\n",
    "loss = tf.reduce_mean(tf.nn.sigmoid_cross_entropy_with_logits(logits=mod, labels=target))"
   ],
   "execution_count": 317,
   "outputs": []
  },
  {
   "cell_type": "markdown",
   "metadata": {
    "id": "y0yVSC-8SghT",
    "pycharm": {
     "name": "#%% md\n"
    }
   },
   "source": [
    "#Initialize hyperparameters\n",
    "- Batch size\n",
    "- Learning rate\n",
    "- Number of iterations"
   ]
  },
  {
   "cell_type": "code",
   "metadata": {
    "id": "JrXjcparSVPr",
    "pycharm": {
     "name": "#%%\n"
    }
   },
   "source": [
    "learning_rate = 0.01\n",
    "batch_size = 20\n",
    "iter_num = 500"
   ],
   "execution_count": 318,
   "outputs": []
  },
  {
   "cell_type": "markdown",
   "metadata": {
    "id": "baFTs-tQSlX0",
    "pycharm": {
     "name": "#%% md\n"
    }
   },
   "source": [
    "#Define the optimizer"
   ]
  },
  {
   "cell_type": "code",
   "metadata": {
    "id": "GkxBbUK_SEMd",
    "pycharm": {
     "name": "#%%\n"
    }
   },
   "source": [
    "opt = tf.train.GradientDescentOptimizer(learning_rate)"
   ],
   "execution_count": 319,
   "outputs": []
  },
  {
   "cell_type": "markdown",
   "metadata": {
    "id": "KTr35U13SyHW",
    "pycharm": {
     "name": "#%% md\n"
    }
   },
   "source": [
    "#Define the goal\n",
    "- minimize the defined loss"
   ]
  },
  {
   "cell_type": "code",
   "metadata": {
    "id": "FbHEFwBNSw3A",
    "pycharm": {
     "name": "#%%\n"
    }
   },
   "source": [
    "goal = opt.minimize(loss)"
   ],
   "execution_count": 320,
   "outputs": []
  },
  {
   "cell_type": "markdown",
   "metadata": {
    "id": "3uRr4Z6_S6Qm",
    "pycharm": {
     "name": "#%% md\n"
    }
   },
   "source": [
    "#Define accuracy"
   ]
  },
  {
   "cell_type": "code",
   "metadata": {
    "id": "us409vhQTCfd",
    "pycharm": {
     "name": "#%%\n"
    }
   },
   "source": [
    "# The default threshold of sigmoid is 0.5, rounded off directly\n",
    "prediction = tf.round(tf.sigmoid(mod))\n",
    "# Bool into float32 type\n",
    "correct = tf.cast(tf.equal(prediction, target), dtype=tf.float32)\n",
    "# Average\n",
    "accuracy = tf.reduce_mean(correct)\n",
    "# End of the definition of the model framework"
   ],
   "execution_count": 321,
   "outputs": []
  },
  {
   "cell_type": "markdown",
   "metadata": {
    "id": "ZpTdZ6CvTMkB",
    "pycharm": {
     "name": "#%% md\n"
    }
   },
   "source": [
    "# Initialize variables that analyze learning progress"
   ]
  },
  {
   "cell_type": "code",
   "metadata": {
    "id": "e_BlmE26TLvj",
    "pycharm": {
     "name": "#%%\n"
    }
   },
   "source": [
    "loss_trace = []\n",
    "train_acc = []\n",
    "test_acc = []"
   ],
   "execution_count": 322,
   "outputs": []
  },
  {
   "cell_type": "markdown",
   "metadata": {
    "id": "fT8jx1TiTY83",
    "pycharm": {
     "name": "#%% md\n"
    }
   },
   "source": [
    "#Training"
   ]
  },
  {
   "cell_type": "code",
   "metadata": {
    "id": "qYNCBIVtS5XS",
    "outputId": "03791bad-d918-4e2e-8092-2586d7406721",
    "colab": {
     "base_uri": "https://localhost:8080/"
    },
    "pycharm": {
     "name": "#%%\n"
    }
   },
   "source": [
    "sess = tf.Session()\n",
    "sess.run(tf.global_variables_initializer())\n",
    "for epoch in range(iter_num):\n",
    "  # Generate random batch index\n",
    "  batch_index = np.random.choice(len(X_train), size=batch_size)\n",
    "  batch_X_train = X_train[batch_index]\n",
    "  batch_y_train = np.matrix(y_train[batch_index]).T\n",
    "  sess.run(goal, feed_dict={data: batch_X_train, target: batch_y_train})\n",
    "  temp_loss = sess.run(loss, feed_dict={data: batch_X_train, target: batch_y_train})\n",
    "  temp_train_acc = sess.run(accuracy, feed_dict={data: X_train, target: np.matrix(y_train).T})\n",
    "  temp_test_acc = sess.run(accuracy, feed_dict={data: X_test, target: np.matrix(y_test).T})\n",
    "  loss_trace.append(temp_loss)\n",
    "  train_acc.append(temp_train_acc)\n",
    "  test_acc.append(temp_test_acc)\n",
    "  if (epoch + 1) % 10 == 0:\n",
    "    print('epoch: {:4d} loss: {:5f} train_acc: {:5f} test_acc: {:5f}'.format(epoch + 1, temp_loss, temp_train_acc, temp_test_acc))\n"
   ],
   "execution_count": 323,
   "outputs": [
    {
     "name": "stdout",
     "output_type": "stream",
     "text": [
      "epoch:   10 loss: 0.805517 train_acc: 0.271429 test_acc: 0.266667\n",
      "epoch:   20 loss: 0.765520 train_acc: 0.357143 test_acc: 0.366667\n",
      "epoch:   30 loss: 0.637457 train_acc: 0.457143 test_acc: 0.400000\n",
      "epoch:   40 loss: 0.574084 train_acc: 0.600000 test_acc: 0.466667\n",
      "epoch:   50 loss: 0.531850 train_acc: 0.628571 test_acc: 0.600000\n",
      "epoch:   60 loss: 0.568602 train_acc: 0.685714 test_acc: 0.733333\n",
      "epoch:   70 loss: 0.516830 train_acc: 0.757143 test_acc: 0.866667\n",
      "epoch:   80 loss: 0.398368 train_acc: 0.828571 test_acc: 0.933333\n",
      "epoch:   90 loss: 0.385587 train_acc: 0.871429 test_acc: 0.933333\n",
      "epoch:  100 loss: 0.422070 train_acc: 0.900000 test_acc: 0.933333\n",
      "epoch:  110 loss: 0.404135 train_acc: 0.914286 test_acc: 0.966667\n",
      "epoch:  120 loss: 0.451667 train_acc: 0.928571 test_acc: 0.966667\n",
      "epoch:  130 loss: 0.311008 train_acc: 0.928571 test_acc: 0.966667\n",
      "epoch:  140 loss: 0.276833 train_acc: 0.971429 test_acc: 0.966667\n",
      "epoch:  150 loss: 0.268658 train_acc: 0.985714 test_acc: 1.000000\n",
      "epoch:  160 loss: 0.374105 train_acc: 1.000000 test_acc: 1.000000\n",
      "epoch:  170 loss: 0.254949 train_acc: 1.000000 test_acc: 1.000000\n",
      "epoch:  180 loss: 0.253041 train_acc: 1.000000 test_acc: 1.000000\n",
      "epoch:  190 loss: 0.289375 train_acc: 1.000000 test_acc: 1.000000\n",
      "epoch:  200 loss: 0.213274 train_acc: 1.000000 test_acc: 1.000000\n",
      "epoch:  210 loss: 0.266601 train_acc: 1.000000 test_acc: 1.000000\n",
      "epoch:  220 loss: 0.237185 train_acc: 1.000000 test_acc: 1.000000\n",
      "epoch:  230 loss: 0.194144 train_acc: 1.000000 test_acc: 1.000000\n",
      "epoch:  240 loss: 0.219281 train_acc: 1.000000 test_acc: 1.000000\n",
      "epoch:  250 loss: 0.191932 train_acc: 1.000000 test_acc: 1.000000\n",
      "epoch:  260 loss: 0.201594 train_acc: 1.000000 test_acc: 1.000000\n",
      "epoch:  270 loss: 0.196476 train_acc: 1.000000 test_acc: 1.000000\n",
      "epoch:  280 loss: 0.184308 train_acc: 1.000000 test_acc: 1.000000\n",
      "epoch:  290 loss: 0.137857 train_acc: 1.000000 test_acc: 1.000000\n",
      "epoch:  300 loss: 0.152129 train_acc: 1.000000 test_acc: 1.000000\n",
      "epoch:  310 loss: 0.175824 train_acc: 1.000000 test_acc: 1.000000\n",
      "epoch:  320 loss: 0.158670 train_acc: 1.000000 test_acc: 1.000000\n",
      "epoch:  330 loss: 0.201693 train_acc: 1.000000 test_acc: 1.000000\n",
      "epoch:  340 loss: 0.158728 train_acc: 1.000000 test_acc: 1.000000\n",
      "epoch:  350 loss: 0.151511 train_acc: 1.000000 test_acc: 1.000000\n",
      "epoch:  360 loss: 0.157432 train_acc: 1.000000 test_acc: 1.000000\n",
      "epoch:  370 loss: 0.134717 train_acc: 1.000000 test_acc: 1.000000\n",
      "epoch:  380 loss: 0.105341 train_acc: 1.000000 test_acc: 1.000000\n",
      "epoch:  390 loss: 0.102426 train_acc: 1.000000 test_acc: 1.000000\n",
      "epoch:  400 loss: 0.097942 train_acc: 1.000000 test_acc: 1.000000\n",
      "epoch:  410 loss: 0.136121 train_acc: 1.000000 test_acc: 1.000000\n",
      "epoch:  420 loss: 0.119220 train_acc: 1.000000 test_acc: 1.000000\n",
      "epoch:  430 loss: 0.125843 train_acc: 1.000000 test_acc: 1.000000\n",
      "epoch:  440 loss: 0.119458 train_acc: 1.000000 test_acc: 1.000000\n",
      "epoch:  450 loss: 0.093885 train_acc: 1.000000 test_acc: 1.000000\n",
      "epoch:  460 loss: 0.112479 train_acc: 1.000000 test_acc: 1.000000\n",
      "epoch:  470 loss: 0.089031 train_acc: 1.000000 test_acc: 1.000000\n",
      "epoch:  480 loss: 0.082403 train_acc: 1.000000 test_acc: 1.000000\n",
      "epoch:  490 loss: 0.116341 train_acc: 1.000000 test_acc: 1.000000\n",
      "epoch:  500 loss: 0.069811 train_acc: 1.000000 test_acc: 1.000000\n"
     ]
    }
   ]
  },
  {
   "cell_type": "markdown",
   "metadata": {
    "id": "pNB7uAHAXLLs",
    "pycharm": {
     "name": "#%% md\n"
    }
   },
   "source": [
    "#Visualization of the loss function"
   ]
  },
  {
   "cell_type": "code",
   "metadata": {
    "id": "sb5Sq_anUnzh",
    "outputId": "cac74722-3635-4f19-9e16-0f59ece551a3",
    "colab": {
     "base_uri": "https://localhost:8080/",
     "height": 295
    },
    "pycharm": {
     "name": "#%%\n"
    }
   },
   "source": [
    "\n",
    "plt.plot(loss_trace)\n",
    "plt.title('Cross Entropy Loss')\n",
    "plt.xlabel('epoch')\n",
    "plt.ylabel('loss')\n",
    "plt.show()"
   ],
   "execution_count": 324,
   "outputs": [
    {
     "data": {
      "text/plain": "<Figure size 640x480 with 1 Axes>",
      "image/png": "[encoded data removed]"
     },
     "metadata": {},
     "output_type": "display_data"
    }
   ]
  },
  {
   "cell_type": "markdown",
   "metadata": {
    "id": "FcOjBmpKndBT",
    "pycharm": {
     "name": "#%% md\n"
    }
   },
   "source": [
    "#Train and test accuracy visualization"
   ]
  },
  {
   "cell_type": "code",
   "metadata": {
    "id": "oqud1_gRWrGf",
    "outputId": "1ae3b8de-4a06-4dea-b9dc-2ad3d6fe7300",
    "colab": {
     "base_uri": "https://localhost:8080/",
     "height": 295
    },
    "pycharm": {
     "name": "#%%\n"
    }
   },
   "source": [
    "\n",
    "plt.plot(train_acc, 'b-', label='train accuracy')\n",
    "plt.plot(test_acc, 'k-', label='test accuracy')\n",
    "plt.xlabel('epoch')\n",
    "plt.ylabel('accuracy')\n",
    "plt.title('Train and Test Accuracy')\n",
    "plt.legend(loc='best')\n",
    "plt.show()"
   ],
   "execution_count": 325,
   "outputs": [
    {
     "data": {
      "text/plain": "<Figure size 640x480 with 1 Axes>",
      "image/png": "[encoded data removed]"
     },
     "metadata": {},
     "output_type": "display_data"
    }
   ]
  }
 ]
}