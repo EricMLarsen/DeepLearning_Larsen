{
  "nbformat": 4,
  "nbformat_minor": 0,
  "metadata": {
    "colab": {
      "name": "Logistic_regression_with_Iris_dataset.ipynb",
      "provenance": []
    },
    "kernelspec": {
      "name": "python3",
      "display_name": "Python 3"
    }
  },
  "cells": [
    {
      "cell_type": "markdown",
      "metadata": {
        "id": "jF9k9TS0Ca3N"
      },
      "source": [
        "Google Colab note:\n",
        "- Check in which folder you are in"
      ]
    },
    {
      "cell_type": "code",
      "metadata": {
        "id": "_Y9GYepwBhxA",
        "outputId": "5d59e5ff-808f-4be3-e487-d311b8f01130",
        "colab": {
          "base_uri": "https://localhost:8080/",
          "height": 35
        }
      },
      "source": [
        "import os\n",
        "print(os.getcwd())"
      ],
      "execution_count": 1,
      "outputs": [
        {
          "output_type": "stream",
          "text": [
            "/content\n"
          ],
          "name": "stdout"
        }
      ]
    },
    {
      "cell_type": "markdown",
      "metadata": {
        "id": "eElp-pybCkd1"
      },
      "source": [
        "Upload the data file in that folder\n",
        "- It will be deleted after your session"
      ]
    },
    {
      "cell_type": "code",
      "metadata": {
        "id": "OiZjtWNLCxz3",
        "outputId": "6d2ebdf4-1ce8-4b73-bdbd-f87e3bfde71b",
        "colab": {
          "base_uri": "https://localhost:8080/",
          "height": 69
        }
      },
      "source": [
        "%matplotlib inline\n",
        "import numpy as np # linear algebra\n",
        "import pandas as pd # data processing, CSV file I/O (e.g. pd.read_csv)\n",
        "import matplotlib.pyplot as plt\n",
        "%tensorflow_version 1.x\n",
        "import tensorflow as tf\n",
        "print(print(tf.__version__))"
      ],
      "execution_count": 2,
      "outputs": [
        {
          "output_type": "stream",
          "text": [
            "TensorFlow 1.x selected.\n",
            "1.15.2\n",
            "None\n"
          ],
          "name": "stdout"
        }
      ]
    },
    {
      "cell_type": "markdown",
      "metadata": {
        "id": "6CnhRXEtDWt_"
      },
      "source": [
        "#Read the data\n",
        "- From CSV to Pandas data frame"
      ]
    },
    {
      "cell_type": "code",
      "metadata": {
        "id": "nYDZDt0nC_0c"
      },
      "source": [
        "iris = pd.read_csv('Iris.csv')"
      ],
      "execution_count": 3,
      "outputs": []
    },
    {
      "cell_type": "code",
      "metadata": {
        "id": "UQ0e6InXDS59",
        "outputId": "83181326-212a-4709-8891-998e08d0da14",
        "colab": {
          "base_uri": "https://localhost:8080/",
          "height": 35
        }
      },
      "source": [
        "iris.shape"
      ],
      "execution_count": 4,
      "outputs": [
        {
          "output_type": "execute_result",
          "data": {
            "text/plain": [
              "(150, 6)"
            ]
          },
          "metadata": {
            "tags": []
          },
          "execution_count": 4
        }
      ]
    },
    {
      "cell_type": "code",
      "metadata": {
        "id": "NIP1foAIDUoo",
        "outputId": "2155e1e7-fc80-41cf-d137-ec96d9dab369",
        "colab": {
          "base_uri": "https://localhost:8080/",
          "height": 202
        }
      },
      "source": [
        "iris.head()"
      ],
      "execution_count": 5,
      "outputs": [
        {
          "output_type": "execute_result",
          "data": {
            "text/html": [
              "<div>\n",
              "<style scoped>\n",
              "    .dataframe tbody tr th:only-of-type {\n",
              "        vertical-align: middle;\n",
              "    }\n",
              "\n",
              "    .dataframe tbody tr th {\n",
              "        vertical-align: top;\n",
              "    }\n",
              "\n",
              "    .dataframe thead th {\n",
              "        text-align: right;\n",
              "    }\n",
              "</style>\n",
              "<table border=\"1\" class=\"dataframe\">\n",
              "  <thead>\n",
              "    <tr style=\"text-align: right;\">\n",
              "      <th></th>\n",
              "      <th>Id</th>\n",
              "      <th>SepalLengthCm</th>\n",
              "      <th>SepalWidthCm</th>\n",
              "      <th>PetalLengthCm</th>\n",
              "      <th>PetalWidthCm</th>\n",
              "      <th>Species</th>\n",
              "    </tr>\n",
              "  </thead>\n",
              "  <tbody>\n",
              "    <tr>\n",
              "      <th>0</th>\n",
              "      <td>1</td>\n",
              "      <td>5.1</td>\n",
              "      <td>3.5</td>\n",
              "      <td>1.4</td>\n",
              "      <td>0.2</td>\n",
              "      <td>Iris-setosa</td>\n",
              "    </tr>\n",
              "    <tr>\n",
              "      <th>1</th>\n",
              "      <td>2</td>\n",
              "      <td>4.9</td>\n",
              "      <td>3.0</td>\n",
              "      <td>1.4</td>\n",
              "      <td>0.2</td>\n",
              "      <td>Iris-setosa</td>\n",
              "    </tr>\n",
              "    <tr>\n",
              "      <th>2</th>\n",
              "      <td>3</td>\n",
              "      <td>4.7</td>\n",
              "      <td>3.2</td>\n",
              "      <td>1.3</td>\n",
              "      <td>0.2</td>\n",
              "      <td>Iris-setosa</td>\n",
              "    </tr>\n",
              "    <tr>\n",
              "      <th>3</th>\n",
              "      <td>4</td>\n",
              "      <td>4.6</td>\n",
              "      <td>3.1</td>\n",
              "      <td>1.5</td>\n",
              "      <td>0.2</td>\n",
              "      <td>Iris-setosa</td>\n",
              "    </tr>\n",
              "    <tr>\n",
              "      <th>4</th>\n",
              "      <td>5</td>\n",
              "      <td>5.0</td>\n",
              "      <td>3.6</td>\n",
              "      <td>1.4</td>\n",
              "      <td>0.2</td>\n",
              "      <td>Iris-setosa</td>\n",
              "    </tr>\n",
              "  </tbody>\n",
              "</table>\n",
              "</div>"
            ],
            "text/plain": [
              "   Id  SepalLengthCm  SepalWidthCm  PetalLengthCm  PetalWidthCm      Species\n",
              "0   1            5.1           3.5            1.4           0.2  Iris-setosa\n",
              "1   2            4.9           3.0            1.4           0.2  Iris-setosa\n",
              "2   3            4.7           3.2            1.3           0.2  Iris-setosa\n",
              "3   4            4.6           3.1            1.5           0.2  Iris-setosa\n",
              "4   5            5.0           3.6            1.4           0.2  Iris-setosa"
            ]
          },
          "metadata": {
            "tags": []
          },
          "execution_count": 5
        }
      ]
    },
    {
      "cell_type": "markdown",
      "metadata": {
        "id": "IraXKesfElz2"
      },
      "source": [
        "#Features\n",
        "- Column 1 : id\n",
        "- Columns 2 - 5: features/attributes\n",
        "- Column 6: label"
      ]
    },
    {
      "cell_type": "markdown",
      "metadata": {
        "id": "tDwEeG5xDyk_"
      },
      "source": [
        "We will to do a binary classification, so we will keep the first 100 rows of data\n",
        "\n",
        "Iris-setosa species is linearly separable from the other two, but the other two are not linearly separable from each other.To keep the species blance Iris-setosa and Iris-versicolor are choosen"
      ]
    },
    {
      "cell_type": "code",
      "metadata": {
        "id": "fed9o0YXVqwP"
      },
      "source": [
        "iris = iris[:100]"
      ],
      "execution_count": 6,
      "outputs": []
    },
    {
      "cell_type": "markdown",
      "metadata": {
        "id": "668Dp3PlEHnF"
      },
      "source": [
        "#Covert the string lables to numerals"
      ]
    },
    {
      "cell_type": "code",
      "metadata": {
        "id": "51baCEy_Dx2t"
      },
      "source": [
        "iris.Species = iris.Species.replace(to_replace=['Iris-setosa', 'Iris-versicolor'], value=[0, 1])"
      ],
      "execution_count": 7,
      "outputs": []
    },
    {
      "cell_type": "markdown",
      "metadata": {
        "id": "4svOpInXEY-x"
      },
      "source": [
        "#Visualize two class examples in 2D space\n",
        "- We simply select first two features"
      ]
    },
    {
      "cell_type": "code",
      "metadata": {
        "id": "RK111QlGDp5p",
        "outputId": "a3aada11-7874-47e2-9cd7-4eba73852219",
        "colab": {
          "base_uri": "https://localhost:8080/",
          "height": 299
        }
      },
      "source": [
        "plt.scatter(iris[:50].SepalLengthCm, iris[:50].SepalWidthCm, label='Iris-setosa')\n",
        "plt.scatter(iris[51:].SepalLengthCm, iris[51:].SepalWidthCm, label='Iris-versicolo')\n",
        "plt.xlabel('SepalLength')\n",
        "plt.ylabel('SepalWidth')\n",
        "plt.legend(loc='best')"
      ],
      "execution_count": 8,
      "outputs": [
        {
          "output_type": "execute_result",
          "data": {
            "text/plain": [
              "<matplotlib.legend.Legend at 0x7fef6d551b70>"
            ]
          },
          "metadata": {
            "tags": []
          },
          "execution_count": 8
        },
        {
          "output_type": "display_data",
          "data": {
            "image/png": "[encoded data removed]",
            "text/plain": [
              "<Figure size 432x288 with 1 Axes>"
            ]
          },
          "metadata": {
            "tags": [],
            "needs_background": "light"
          }
        }
      ]
    },
    {
      "cell_type": "markdown",
      "metadata": {
        "id": "Od8-d73gFYmY"
      },
      "source": [
        "#Define X and y"
      ]
    },
    {
      "cell_type": "code",
      "metadata": {
        "id": "HZ4jczn9FP8H",
        "outputId": "4abe9e21-de7d-45a0-d1d4-7e6c1eeaf910",
        "colab": {
          "base_uri": "https://localhost:8080/",
          "height": 52
        }
      },
      "source": [
        "X = iris.drop(labels=['Id', 'Species'], axis=1).values\n",
        "y = iris.Species.values\n",
        "print(\"X shape: \", X.shape, \"y shape: \", y.shape)\n",
        "(m,n) = X.shape\n",
        "print(\"Number of total examples: \", m, \" Number of features: \", n)\n"
      ],
      "execution_count": 9,
      "outputs": [
        {
          "output_type": "stream",
          "text": [
            "X shape:  (100, 4) y shape:  (100,)\n",
            "Number of total examples:  100  Number of features:  4\n"
          ],
          "name": "stdout"
        }
      ]
    },
    {
      "cell_type": "markdown",
      "metadata": {
        "id": "wCJu5CiYF_QO"
      },
      "source": [
        "#Split data\n",
        "- Train:test (70%:30%)\n",
        "- Initializing the random seeds to regenerate the outputs"
      ]
    },
    {
      "cell_type": "code",
      "metadata": {
        "id": "oRKsQFIEFm0_"
      },
      "source": [
        "seed = 5\n",
        "np.random.seed(seed)\n",
        "tf.set_random_seed(seed)\n",
        "train_index = np.random.choice(len(X), round(len(X) * 0.7), replace=False)"
      ],
      "execution_count": 10,
      "outputs": []
    },
    {
      "cell_type": "code",
      "metadata": {
        "id": "NXc9YrS4IyAk"
      },
      "source": [
        "# diff set\n",
        "test_index = np.array(list(set(range(len(X))) - set(train_index)))\n",
        "X_train = X[train_index]\n",
        "y_train = y[train_index]\n",
        "X_test = X[test_index]\n",
        "y_test = y[test_index]"
      ],
      "execution_count": 11,
      "outputs": []
    },
    {
      "cell_type": "markdown",
      "metadata": {
        "id": "IACn0rCQJbnu"
      },
      "source": [
        "#Normalize\n",
        "- Z normalization: feature_value-mean(feature)/standard_deviation(feature)\n",
        "- Min/max normalization: feature_value - min(feature)/max(feature)-min(feature)\n"
      ]
    },
    {
      "cell_type": "code",
      "metadata": {
        "id": "tso_5M3xJMbD"
      },
      "source": [
        "def z_normalization(feat_val):\n",
        "  feat_mean = np.mean(feat_val, axis=0)\n",
        "  feat_sd = np.std(feat_val, axis=0)\n",
        "  return np.divide(feat_val - feat_mean, feat_sd)"
      ],
      "execution_count": 12,
      "outputs": []
    },
    {
      "cell_type": "code",
      "metadata": {
        "id": "D3h--UQJK9Es"
      },
      "source": [
        "# z normalize\n",
        "X_train = z_normalization(X_train)\n",
        "X_test = z_normalization(X_test)"
      ],
      "execution_count": 13,
      "outputs": []
    },
    {
      "cell_type": "markdown",
      "metadata": {
        "id": "_2biG3vULiQw"
      },
      "source": [
        "#Weight and bias initialization"
      ]
    },
    {
      "cell_type": "code",
      "metadata": {
        "id": "2B_bg8vGLKjo"
      },
      "source": [
        "W = tf.Variable(tf.random.normal(shape=[n, 1]))\n",
        "b = tf.Variable(tf.random.normal(shape=[1, 1]))\n",
        "init = tf.global_variables_initializer()\n",
        "sess = tf.Session()\n",
        "sess.run(init)"
      ],
      "execution_count": 14,
      "outputs": []
    },
    {
      "cell_type": "markdown",
      "metadata": {
        "id": "adA0kkYIOB1B"
      },
      "source": [
        "#Defining the placeholders"
      ]
    },
    {
      "cell_type": "code",
      "metadata": {
        "id": "8yYkIeR3LuEi"
      },
      "source": [
        "data = tf.placeholder(dtype=tf.float32, shape=[None, n])\n",
        "target = tf.placeholder(dtype=tf.float32, shape=[None, 1])"
      ],
      "execution_count": 15,
      "outputs": []
    },
    {
      "cell_type": "markdown",
      "metadata": {
        "id": "mY3ceyJSRo4W"
      },
      "source": [
        "#Model definition"
      ]
    },
    {
      "cell_type": "code",
      "metadata": {
        "id": "HXyV3AM9OJFQ"
      },
      "source": [
        "mod = tf.matmul(data, W) + b"
      ],
      "execution_count": 16,
      "outputs": []
    },
    {
      "cell_type": "markdown",
      "metadata": {
        "id": "7-3peh-tR6tT"
      },
      "source": [
        "#Define loss function"
      ]
    },
    {
      "cell_type": "code",
      "metadata": {
        "id": "cEMUdntNR0fO",
        "outputId": "ef8e4770-81dc-4c07-985e-be30d504f41a",
        "colab": {
          "base_uri": "https://localhost:8080/",
          "height": 89
        }
      },
      "source": [
        "#first doing a sigmoid on the model result and then using the cross-entropy loss function\n",
        "loss = tf.reduce_mean(tf.nn.sigmoid_cross_entropy_with_logits(logits=mod, labels=target))"
      ],
      "execution_count": 17,
      "outputs": [
        {
          "output_type": "stream",
          "text": [
            "WARNING:tensorflow:From /tensorflow-1.15.2/python3.6/tensorflow_core/python/ops/nn_impl.py:183: where (from tensorflow.python.ops.array_ops) is deprecated and will be removed in a future version.\n",
            "Instructions for updating:\n",
            "Use tf.where in 2.0, which has the same broadcast rule as np.where\n"
          ],
          "name": "stdout"
        }
      ]
    },
    {
      "cell_type": "markdown",
      "metadata": {
        "id": "y0yVSC-8SghT"
      },
      "source": [
        "#Initialize hyperparameters\n",
        "- Batch size\n",
        "- Learning rate\n",
        "- Number of iterations"
      ]
    },
    {
      "cell_type": "code",
      "metadata": {
        "id": "JrXjcparSVPr"
      },
      "source": [
        "learning_rate = 0.01\n",
        "batch_size = 20\n",
        "iter_num = 500"
      ],
      "execution_count": 18,
      "outputs": []
    },
    {
      "cell_type": "markdown",
      "metadata": {
        "id": "baFTs-tQSlX0"
      },
      "source": [
        "#Define the optimizer"
      ]
    },
    {
      "cell_type": "code",
      "metadata": {
        "id": "GkxBbUK_SEMd"
      },
      "source": [
        "opt = tf.train.GradientDescentOptimizer(learning_rate)"
      ],
      "execution_count": 19,
      "outputs": []
    },
    {
      "cell_type": "markdown",
      "metadata": {
        "id": "KTr35U13SyHW"
      },
      "source": [
        "#Define the goal\n",
        "- minimize the defined loss"
      ]
    },
    {
      "cell_type": "code",
      "metadata": {
        "id": "FbHEFwBNSw3A"
      },
      "source": [
        "goal = opt.minimize(loss)"
      ],
      "execution_count": 20,
      "outputs": []
    },
    {
      "cell_type": "markdown",
      "metadata": {
        "id": "3uRr4Z6_S6Qm"
      },
      "source": [
        "#Define accuracy"
      ]
    },
    {
      "cell_type": "code",
      "metadata": {
        "id": "us409vhQTCfd"
      },
      "source": [
        "# The default threshold of sigmoid is 0.5, rounded off directly\n",
        "prediction = tf.round(tf.sigmoid(mod))\n",
        "# Bool into float32 type\n",
        "correct = tf.cast(tf.equal(prediction, target), dtype=tf.float32)\n",
        "# Average\n",
        "accuracy = tf.reduce_mean(correct)\n",
        "# End of the definition of the model framework"
      ],
      "execution_count": 21,
      "outputs": []
    },
    {
      "cell_type": "markdown",
      "metadata": {
        "id": "ZpTdZ6CvTMkB"
      },
      "source": [
        "# Initialize variables that analyze learning progress"
      ]
    },
    {
      "cell_type": "code",
      "metadata": {
        "id": "e_BlmE26TLvj"
      },
      "source": [
        "loss_trace = []\n",
        "train_acc = []\n",
        "test_acc = []"
      ],
      "execution_count": 22,
      "outputs": []
    },
    {
      "cell_type": "markdown",
      "metadata": {
        "id": "fT8jx1TiTY83"
      },
      "source": [
        "#Training"
      ]
    },
    {
      "cell_type": "code",
      "metadata": {
        "id": "qYNCBIVtS5XS",
        "outputId": "25741d74-3cd1-4688-8286-dc5eaad1ee06",
        "colab": {
          "base_uri": "https://localhost:8080/",
          "height": 884
        }
      },
      "source": [
        "for epoch in range(iter_num):\n",
        "  # Generate random batch index\n",
        "  batch_index = np.random.choice(len(X_train), size=batch_size)\n",
        "  batch_X_train = X_train[batch_index]\n",
        "  batch_y_train = np.matrix(y_train[batch_index]).T\n",
        "  sess.run(goal, feed_dict={data: batch_X_train, target: batch_y_train})\n",
        "  temp_loss = sess.run(loss, feed_dict={data: batch_X_train, target: batch_y_train})\n",
        "  temp_train_acc = sess.run(accuracy, feed_dict={data: X_train, target: np.matrix(y_train).T})\n",
        "  temp_test_acc = sess.run(accuracy, feed_dict={data: X_test, target: np.matrix(y_test).T})\n",
        "  loss_trace.append(temp_loss)\n",
        "  train_acc.append(temp_train_acc)\n",
        "  test_acc.append(temp_test_acc)\n",
        "  if (epoch + 1) % 10 == 0:\n",
        "    print('epoch: {:4d} loss: {:5f} train_acc: {:5f} test_acc: {:5f}'.format(epoch + 1, temp_loss, temp_train_acc, temp_test_acc))\n"
      ],
      "execution_count": 23,
      "outputs": [
        {
          "output_type": "stream",
          "text": [
            "epoch:   10 loss: 0.567506 train_acc: 0.685714 test_acc: 0.666667\n",
            "epoch:   20 loss: 0.537539 train_acc: 0.742857 test_acc: 0.700000\n",
            "epoch:   30 loss: 0.644609 train_acc: 0.785714 test_acc: 0.766667\n",
            "epoch:   40 loss: 0.669525 train_acc: 0.800000 test_acc: 0.766667\n",
            "epoch:   50 loss: 0.547814 train_acc: 0.828571 test_acc: 0.800000\n",
            "epoch:   60 loss: 0.385430 train_acc: 0.885714 test_acc: 0.800000\n",
            "epoch:   70 loss: 0.385661 train_acc: 0.885714 test_acc: 0.833333\n",
            "epoch:   80 loss: 0.492626 train_acc: 0.900000 test_acc: 0.900000\n",
            "epoch:   90 loss: 0.329989 train_acc: 0.928571 test_acc: 0.900000\n",
            "epoch:  100 loss: 0.304074 train_acc: 0.928571 test_acc: 0.900000\n",
            "epoch:  110 loss: 0.251284 train_acc: 0.957143 test_acc: 0.933333\n",
            "epoch:  120 loss: 0.241475 train_acc: 0.957143 test_acc: 0.966667\n",
            "epoch:  130 loss: 0.221657 train_acc: 0.971429 test_acc: 0.966667\n",
            "epoch:  140 loss: 0.261641 train_acc: 0.971429 test_acc: 0.966667\n",
            "epoch:  150 loss: 0.234876 train_acc: 0.985714 test_acc: 0.966667\n",
            "epoch:  160 loss: 0.144539 train_acc: 0.985714 test_acc: 0.966667\n",
            "epoch:  170 loss: 0.150645 train_acc: 0.985714 test_acc: 0.966667\n",
            "epoch:  180 loss: 0.242294 train_acc: 1.000000 test_acc: 0.966667\n",
            "epoch:  190 loss: 0.245188 train_acc: 1.000000 test_acc: 0.966667\n",
            "epoch:  200 loss: 0.184371 train_acc: 1.000000 test_acc: 0.966667\n",
            "epoch:  210 loss: 0.207047 train_acc: 1.000000 test_acc: 0.966667\n",
            "epoch:  220 loss: 0.162489 train_acc: 1.000000 test_acc: 0.966667\n",
            "epoch:  230 loss: 0.120142 train_acc: 1.000000 test_acc: 0.966667\n",
            "epoch:  240 loss: 0.175881 train_acc: 1.000000 test_acc: 1.000000\n",
            "epoch:  250 loss: 0.165572 train_acc: 1.000000 test_acc: 1.000000\n",
            "epoch:  260 loss: 0.154859 train_acc: 1.000000 test_acc: 1.000000\n",
            "epoch:  270 loss: 0.200211 train_acc: 1.000000 test_acc: 1.000000\n",
            "epoch:  280 loss: 0.120144 train_acc: 1.000000 test_acc: 1.000000\n",
            "epoch:  290 loss: 0.124842 train_acc: 1.000000 test_acc: 1.000000\n",
            "epoch:  300 loss: 0.110861 train_acc: 1.000000 test_acc: 1.000000\n",
            "epoch:  310 loss: 0.097284 train_acc: 1.000000 test_acc: 1.000000\n",
            "epoch:  320 loss: 0.107863 train_acc: 1.000000 test_acc: 1.000000\n",
            "epoch:  330 loss: 0.117917 train_acc: 1.000000 test_acc: 1.000000\n",
            "epoch:  340 loss: 0.114536 train_acc: 1.000000 test_acc: 1.000000\n",
            "epoch:  350 loss: 0.104965 train_acc: 1.000000 test_acc: 1.000000\n",
            "epoch:  360 loss: 0.100470 train_acc: 1.000000 test_acc: 1.000000\n",
            "epoch:  370 loss: 0.090927 train_acc: 1.000000 test_acc: 1.000000\n",
            "epoch:  380 loss: 0.071949 train_acc: 1.000000 test_acc: 1.000000\n",
            "epoch:  390 loss: 0.083787 train_acc: 1.000000 test_acc: 1.000000\n",
            "epoch:  400 loss: 0.076116 train_acc: 1.000000 test_acc: 1.000000\n",
            "epoch:  410 loss: 0.068281 train_acc: 1.000000 test_acc: 1.000000\n",
            "epoch:  420 loss: 0.106650 train_acc: 1.000000 test_acc: 1.000000\n",
            "epoch:  430 loss: 0.078333 train_acc: 1.000000 test_acc: 1.000000\n",
            "epoch:  440 loss: 0.071961 train_acc: 1.000000 test_acc: 1.000000\n",
            "epoch:  450 loss: 0.065526 train_acc: 1.000000 test_acc: 1.000000\n",
            "epoch:  460 loss: 0.087402 train_acc: 1.000000 test_acc: 1.000000\n",
            "epoch:  470 loss: 0.077185 train_acc: 1.000000 test_acc: 1.000000\n",
            "epoch:  480 loss: 0.059906 train_acc: 1.000000 test_acc: 1.000000\n",
            "epoch:  490 loss: 0.078912 train_acc: 1.000000 test_acc: 1.000000\n",
            "epoch:  500 loss: 0.054027 train_acc: 1.000000 test_acc: 1.000000\n"
          ],
          "name": "stdout"
        }
      ]
    },
    {
      "cell_type": "markdown",
      "metadata": {
        "id": "pNB7uAHAXLLs"
      },
      "source": [
        "#Visualization of the loss function"
      ]
    },
    {
      "cell_type": "code",
      "metadata": {
        "id": "sb5Sq_anUnzh",
        "outputId": "a1ca86d5-367f-42d0-eb6b-eaf9b9c35d15",
        "colab": {
          "base_uri": "https://localhost:8080/",
          "height": 295
        }
      },
      "source": [
        "\n",
        "plt.plot(loss_trace)\n",
        "plt.title('Cross Entropy Loss')\n",
        "plt.xlabel('epoch')\n",
        "plt.ylabel('loss')\n",
        "plt.show()"
      ],
      "execution_count": 24,
      "outputs": [
        {
          "output_type": "display_data",
          "data": {
            "image/png": "[encoded data removed]",
            "text/plain": [
              "<Figure size 432x288 with 1 Axes>"
            ]
          },
          "metadata": {
            "tags": [],
            "needs_background": "light"
          }
        }
      ]
    },
    {
      "cell_type": "markdown",
      "metadata": {
        "id": "FcOjBmpKndBT"
      },
      "source": [
        "#Train and test accuracy visualization"
      ]
    },
    {
      "cell_type": "code",
      "metadata": {
        "id": "oqud1_gRWrGf",
        "outputId": "ce0c408c-aba8-4677-93ef-2e577d4cfe6c",
        "colab": {
          "base_uri": "https://localhost:8080/",
          "height": 295
        }
      },
      "source": [
        "\n",
        "plt.plot(train_acc, 'b-', label='train accuracy')\n",
        "plt.plot(test_acc, 'k-', label='test accuracy')\n",
        "plt.xlabel('epoch')\n",
        "plt.ylabel('accuracy')\n",
        "plt.title('Train and Test Accuracy')\n",
        "plt.legend(loc='best')\n",
        "plt.show()"
      ],
      "execution_count": 25,
      "outputs": [
        {
          "output_type": "display_data",
          "data": {
            "image/png": "[encoded data removed]",
            "text/plain": [
              "<Figure size 432x288 with 1 Axes>"
            ]
          },
          "metadata": {
            "tags": [],
            "needs_background": "light"
          }
        }
      ]
    }
  ]
}