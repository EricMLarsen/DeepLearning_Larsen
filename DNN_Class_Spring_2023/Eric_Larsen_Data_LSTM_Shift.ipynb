{
 "cells": [
  {
   "cell_type": "code",
   "execution_count": 38,
   "outputs": [],
   "source": [
    "from math import sqrt\n",
    "from numpy import concatenate\n",
    "from matplotlib import pyplot\n",
    "from pandas import read_csv\n",
    "from pandas import DataFrame\n",
    "from pandas import concat\n",
    "from sklearn.preprocessing import MinMaxScaler\n",
    "from sklearn.preprocessing import LabelEncoder\n",
    "from sklearn.metrics import mean_squared_error\n",
    "from keras.models import Sequential\n",
    "from keras.layers import Dense\n",
    "from keras.layers import LSTM\n",
    "import numpy as np\n",
    "import pandas as pd\n",
    "import tensorflow\n",
    "#Set random value\n",
    "randomval = 1\n",
    "#Set random seeds\n",
    "np.random.seed(randomval)\n",
    "tensorflow.random.set_seed(randomval)\n",
    "\n",
    "\n",
    "# convert series to supervised learning\n",
    "def series_to_supervised(data, n_in=1, n_out=1, dropnan=True):\n",
    "     n_vars = 1 if type(data) is list else data.shape[1]\n",
    "     df = DataFrame(data)\n",
    "     cols, names = list(), list()\n",
    "     # input sequence (t-n, ... t-1)\n",
    "     for i in range(n_in, 0, -1):\n",
    "         cols.append(df.shift(i))\n",
    "     names += [('var%d(t-%d)' % (j+1, i)) for j in range(n_vars)]\n",
    "     # forecast sequence (t, t+1, ... t+n)\n",
    "     for i in range(0, n_out):\n",
    "         cols.append(df.shift(-i))\n",
    "     if i == 0:\n",
    "         names += [('var%d(t)' % (j+1)) for j in range(n_vars)]\n",
    "     else:\n",
    "         names += [('var%d(t+%d)' % (j+1, i)) for j in range(n_vars)]\n",
    "     # put it all together\n",
    "     agg = concat(cols, axis=1)\n",
    "     agg.columns = names\n",
    "     # drop rows with NaN values\n",
    "     if dropnan:\n",
    "         agg.dropna(inplace=True)\n",
    "     return agg"
   ],
   "metadata": {
    "collapsed": false,
    "pycharm": {
     "name": "#%%\n"
    }
   }
  },
  {
   "cell_type": "code",
   "execution_count": 24,
   "outputs": [
    {
     "name": "stdout",
     "output_type": "stream",
     "text": [
      "          No  year  month  day  hour  pm2.5  DEWP  TEMP    PRES cbwd     Iws  \\\n",
      "0          1  2010      1    1     0    NaN   -21 -11.0  1021.0   NW    1.79   \n",
      "1          2  2010      1    1     1    NaN   -21 -12.0  1020.0   NW    4.92   \n",
      "2          3  2010      1    1     2    NaN   -21 -11.0  1019.0   NW    6.71   \n",
      "3          4  2010      1    1     3    NaN   -21 -14.0  1019.0   NW    9.84   \n",
      "4          5  2010      1    1     4    NaN   -20 -12.0  1018.0   NW   12.97   \n",
      "...      ...   ...    ...  ...   ...    ...   ...   ...     ...  ...     ...   \n",
      "43819  43820  2014     12   31    19    8.0   -23  -2.0  1034.0   NW  231.97   \n",
      "43820  43821  2014     12   31    20   10.0   -22  -3.0  1034.0   NW  237.78   \n",
      "43821  43822  2014     12   31    21   10.0   -22  -3.0  1034.0   NW  242.70   \n",
      "43822  43823  2014     12   31    22    8.0   -22  -4.0  1034.0   NW  246.72   \n",
      "43823  43824  2014     12   31    23   12.0   -21  -3.0  1034.0   NW  249.85   \n",
      "\n",
      "       Is  Ir  \n",
      "0       0   0  \n",
      "1       0   0  \n",
      "2       0   0  \n",
      "3       0   0  \n",
      "4       0   0  \n",
      "...    ..  ..  \n",
      "43819   0   0  \n",
      "43820   0   0  \n",
      "43821   0   0  \n",
      "43822   0   0  \n",
      "43823   0   0  \n",
      "\n",
      "[43824 rows x 13 columns]\n"
     ]
    }
   ],
   "source": [
    "# check data\n",
    "checkdata = read_csv('raw.csv')\n",
    "print(checkdata)"
   ],
   "metadata": {
    "collapsed": false,
    "pycharm": {
     "name": "#%%\n"
    }
   }
  },
  {
   "cell_type": "code",
   "execution_count": 25,
   "outputs": [
    {
     "name": "stdout",
     "output_type": "stream",
     "text": [
      "                     pollution  dew  temp   press wnd_dir  wnd_spd  snow  rain\n",
      "date                                                                          \n",
      "2010-01-02 00:00:00      129.0  -16  -4.0  1020.0      SE     1.79     0     0\n",
      "2010-01-02 01:00:00      148.0  -15  -4.0  1020.0      SE     2.68     0     0\n",
      "2010-01-02 02:00:00      159.0  -11  -5.0  1021.0      SE     3.57     0     0\n",
      "2010-01-02 03:00:00      181.0   -7  -5.0  1022.0      SE     5.36     1     0\n",
      "2010-01-02 04:00:00      138.0   -7  -5.0  1022.0      SE     6.25     2     0\n"
     ]
    }
   ],
   "source": [
    "from datetime import datetime\n",
    "# load data\n",
    "def parse(x):\n",
    "    return datetime.strptime(x, '%Y %m %d %H')\n",
    "dataset = read_csv('raw.csv',  parse_dates = [['year', 'month', 'day', 'hour']], index_col=0, date_parser=parse)\n",
    "dataset.drop('No', axis=1, inplace=True)\n",
    "# manually specify column names\n",
    "dataset.columns = ['pollution', 'dew', 'temp', 'press', 'wnd_dir', 'wnd_spd', 'snow', 'rain']\n",
    "dataset.index.name = 'date'\n",
    "# mark all NA values with 0\n",
    "dataset['pollution'].fillna(0, inplace=True)\n",
    "# drop the first 24 hours\n",
    "dataset = dataset[24:]\n",
    "# summarize first 5 rows\n",
    "print(dataset.head(5))\n",
    "# save to file\n",
    "dataset.to_csv('pollution.csv')"
   ],
   "metadata": {
    "collapsed": false,
    "pycharm": {
     "name": "#%%\n"
    }
   }
  },
  {
   "cell_type": "code",
   "execution_count": 26,
   "outputs": [
    {
     "name": "stdout",
     "output_type": "stream",
     "text": [
      "       var1(t-1)  var2(t-1)  var3(t-1)  var4(t-1)  var5(t-1)  var6(t-1)  \\\n",
      "1       0.129779   0.352941   0.245902   0.527273   0.666667   0.002290   \n",
      "2       0.148893   0.367647   0.245902   0.527273   0.666667   0.003811   \n",
      "3       0.159960   0.426471   0.229508   0.545454   0.666667   0.005332   \n",
      "4       0.182093   0.485294   0.229508   0.563637   0.666667   0.008391   \n",
      "5       0.138833   0.485294   0.229508   0.563637   0.666667   0.009912   \n",
      "...          ...        ...        ...        ...        ...        ...   \n",
      "43795   0.010060   0.264706   0.278689   0.763638   0.333333   0.385730   \n",
      "43796   0.008048   0.250000   0.278689   0.781818   0.333333   0.395659   \n",
      "43797   0.010060   0.264706   0.262295   0.781818   0.333333   0.405588   \n",
      "43798   0.010060   0.264706   0.262295   0.781818   0.333333   0.413996   \n",
      "43799   0.008048   0.264706   0.245902   0.781818   0.333333   0.420866   \n",
      "\n",
      "       var7(t-1)  var8(t-1)   var1(t)   var2(t)   var3(t)   var4(t)   var5(t)  \\\n",
      "1       0.000000        0.0  0.148893  0.367647  0.245902  0.527273  0.666667   \n",
      "2       0.000000        0.0  0.159960  0.426471  0.229508  0.545454  0.666667   \n",
      "3       0.000000        0.0  0.182093  0.485294  0.229508  0.563637  0.666667   \n",
      "4       0.037037        0.0  0.138833  0.485294  0.229508  0.563637  0.666667   \n",
      "5       0.074074        0.0  0.109658  0.485294  0.213115  0.563637  0.666667   \n",
      "...          ...        ...       ...       ...       ...       ...       ...   \n",
      "43795   0.000000        0.0  0.008048  0.250000  0.278689  0.781818  0.333333   \n",
      "43796   0.000000        0.0  0.010060  0.264706  0.262295  0.781818  0.333333   \n",
      "43797   0.000000        0.0  0.010060  0.264706  0.262295  0.781818  0.333333   \n",
      "43798   0.000000        0.0  0.008048  0.264706  0.245902  0.781818  0.333333   \n",
      "43799   0.000000        0.0  0.012072  0.279412  0.262295  0.781818  0.333333   \n",
      "\n",
      "        var6(t)   var7(t)  var8(t)  \n",
      "1      0.003811  0.000000      0.0  \n",
      "2      0.005332  0.000000      0.0  \n",
      "3      0.008391  0.037037      0.0  \n",
      "4      0.009912  0.074074      0.0  \n",
      "5      0.011433  0.111111      0.0  \n",
      "...         ...       ...      ...  \n",
      "43795  0.395659  0.000000      0.0  \n",
      "43796  0.405588  0.000000      0.0  \n",
      "43797  0.413996  0.000000      0.0  \n",
      "43798  0.420866  0.000000      0.0  \n",
      "43799  0.426216  0.000000      0.0  \n",
      "\n",
      "[43799 rows x 16 columns]\n",
      "   var1(t-1)  var2(t-1)  var3(t-1)  var4(t-1)  var5(t-1)  var6(t-1)  \\\n",
      "1   0.129779   0.352941   0.245902   0.527273   0.666667   0.002290   \n",
      "2   0.148893   0.367647   0.245902   0.527273   0.666667   0.003811   \n",
      "3   0.159960   0.426471   0.229508   0.545454   0.666667   0.005332   \n",
      "4   0.182093   0.485294   0.229508   0.563637   0.666667   0.008391   \n",
      "5   0.138833   0.485294   0.229508   0.563637   0.666667   0.009912   \n",
      "\n",
      "   var7(t-1)  var8(t-1)   var1(t)  \n",
      "1   0.000000        0.0  0.148893  \n",
      "2   0.000000        0.0  0.159960  \n",
      "3   0.000000        0.0  0.182093  \n",
      "4   0.037037        0.0  0.138833  \n",
      "5   0.074074        0.0  0.109658  \n"
     ]
    }
   ],
   "source": [
    "\n",
    "# load dataset\n",
    "dataset = read_csv('pollution.csv', header=0, index_col=0)\n",
    "values = dataset.values\n",
    "# integer encode direction, changes the label to something usefull, direction to value\n",
    "encoder = LabelEncoder()\n",
    "values[:,4] = encoder.fit_transform(values[:,4])\n",
    "# ensure all data is float\n",
    "values = values.astype('float32')\n",
    "# normalize features using max min method\n",
    "scaler = MinMaxScaler(feature_range=(0, 1))\n",
    "scaled = scaler.fit_transform(values)\n",
    "# frame as supervised learning\n",
    "reframed = series_to_supervised(scaled, 1, 1)\n",
    "print(reframed)\n",
    "# drop columns we don't want to predict\n",
    "reframed.drop(reframed.columns[[9,10,11,12,13,14,15]], axis=1, inplace=True)\n",
    "print(reframed.head(5))\n"
   ],
   "metadata": {
    "collapsed": false,
    "pycharm": {
     "name": "#%%\n"
    }
   }
  },
  {
   "cell_type": "code",
   "execution_count": 27,
   "outputs": [
    {
     "name": "stdout",
     "output_type": "stream",
     "text": [
      "(8760, 1, 8) (8760,) (35039, 1, 8) (35039,)\n",
      "Epoch 1/50\n",
      "122/122 - 2s - loss: 0.0636 - val_loss: 0.0521 - 2s/epoch - 17ms/step\n",
      "Epoch 2/50\n",
      "122/122 - 0s - loss: 0.0468 - val_loss: 0.0523 - 451ms/epoch - 4ms/step\n",
      "Epoch 3/50\n",
      "122/122 - 0s - loss: 0.0286 - val_loss: 0.0444 - 428ms/epoch - 4ms/step\n",
      "Epoch 4/50\n",
      "122/122 - 0s - loss: 0.0186 - val_loss: 0.0395 - 484ms/epoch - 4ms/step\n",
      "Epoch 5/50\n",
      "122/122 - 0s - loss: 0.0167 - val_loss: 0.0294 - 457ms/epoch - 4ms/step\n",
      "Epoch 6/50\n",
      "122/122 - 0s - loss: 0.0156 - val_loss: 0.0212 - 420ms/epoch - 3ms/step\n",
      "Epoch 7/50\n",
      "122/122 - 0s - loss: 0.0149 - val_loss: 0.0179 - 400ms/epoch - 3ms/step\n",
      "Epoch 8/50\n",
      "122/122 - 0s - loss: 0.0148 - val_loss: 0.0166 - 400ms/epoch - 3ms/step\n",
      "Epoch 9/50\n",
      "122/122 - 0s - loss: 0.0147 - val_loss: 0.0159 - 411ms/epoch - 3ms/step\n",
      "Epoch 10/50\n",
      "122/122 - 0s - loss: 0.0149 - val_loss: 0.0155 - 419ms/epoch - 3ms/step\n",
      "Epoch 11/50\n",
      "122/122 - 0s - loss: 0.0147 - val_loss: 0.0150 - 406ms/epoch - 3ms/step\n",
      "Epoch 12/50\n",
      "122/122 - 0s - loss: 0.0147 - val_loss: 0.0149 - 415ms/epoch - 3ms/step\n",
      "Epoch 13/50\n",
      "122/122 - 0s - loss: 0.0147 - val_loss: 0.0148 - 414ms/epoch - 3ms/step\n",
      "Epoch 14/50\n",
      "122/122 - 0s - loss: 0.0146 - val_loss: 0.0143 - 411ms/epoch - 3ms/step\n",
      "Epoch 15/50\n",
      "122/122 - 0s - loss: 0.0145 - val_loss: 0.0144 - 411ms/epoch - 3ms/step\n",
      "Epoch 16/50\n",
      "122/122 - 0s - loss: 0.0145 - val_loss: 0.0144 - 414ms/epoch - 3ms/step\n",
      "Epoch 17/50\n",
      "122/122 - 0s - loss: 0.0146 - val_loss: 0.0140 - 421ms/epoch - 3ms/step\n",
      "Epoch 18/50\n",
      "122/122 - 0s - loss: 0.0145 - val_loss: 0.0139 - 411ms/epoch - 3ms/step\n",
      "Epoch 19/50\n",
      "122/122 - 0s - loss: 0.0145 - val_loss: 0.0140 - 411ms/epoch - 3ms/step\n",
      "Epoch 20/50\n",
      "122/122 - 0s - loss: 0.0145 - val_loss: 0.0138 - 416ms/epoch - 3ms/step\n",
      "Epoch 21/50\n",
      "122/122 - 0s - loss: 0.0144 - val_loss: 0.0137 - 409ms/epoch - 3ms/step\n",
      "Epoch 22/50\n",
      "122/122 - 0s - loss: 0.0144 - val_loss: 0.0137 - 412ms/epoch - 3ms/step\n",
      "Epoch 23/50\n",
      "122/122 - 0s - loss: 0.0145 - val_loss: 0.0136 - 414ms/epoch - 3ms/step\n",
      "Epoch 24/50\n",
      "122/122 - 0s - loss: 0.0144 - val_loss: 0.0138 - 414ms/epoch - 3ms/step\n",
      "Epoch 25/50\n",
      "122/122 - 0s - loss: 0.0145 - val_loss: 0.0138 - 413ms/epoch - 3ms/step\n",
      "Epoch 26/50\n",
      "122/122 - 0s - loss: 0.0144 - val_loss: 0.0137 - 412ms/epoch - 3ms/step\n",
      "Epoch 27/50\n",
      "122/122 - 0s - loss: 0.0144 - val_loss: 0.0137 - 414ms/epoch - 3ms/step\n",
      "Epoch 28/50\n",
      "122/122 - 0s - loss: 0.0144 - val_loss: 0.0137 - 414ms/epoch - 3ms/step\n",
      "Epoch 29/50\n",
      "122/122 - 0s - loss: 0.0144 - val_loss: 0.0136 - 409ms/epoch - 3ms/step\n",
      "Epoch 30/50\n",
      "122/122 - 0s - loss: 0.0145 - val_loss: 0.0137 - 411ms/epoch - 3ms/step\n",
      "Epoch 31/50\n",
      "122/122 - 0s - loss: 0.0144 - val_loss: 0.0136 - 413ms/epoch - 3ms/step\n",
      "Epoch 32/50\n",
      "122/122 - 0s - loss: 0.0144 - val_loss: 0.0136 - 410ms/epoch - 3ms/step\n",
      "Epoch 33/50\n",
      "122/122 - 0s - loss: 0.0144 - val_loss: 0.0136 - 412ms/epoch - 3ms/step\n",
      "Epoch 34/50\n",
      "122/122 - 0s - loss: 0.0144 - val_loss: 0.0136 - 411ms/epoch - 3ms/step\n",
      "Epoch 35/50\n",
      "122/122 - 0s - loss: 0.0144 - val_loss: 0.0136 - 409ms/epoch - 3ms/step\n",
      "Epoch 36/50\n",
      "122/122 - 0s - loss: 0.0144 - val_loss: 0.0137 - 415ms/epoch - 3ms/step\n",
      "Epoch 37/50\n",
      "122/122 - 0s - loss: 0.0145 - val_loss: 0.0137 - 418ms/epoch - 3ms/step\n",
      "Epoch 38/50\n",
      "122/122 - 0s - loss: 0.0144 - val_loss: 0.0136 - 421ms/epoch - 3ms/step\n",
      "Epoch 39/50\n",
      "122/122 - 0s - loss: 0.0144 - val_loss: 0.0136 - 435ms/epoch - 4ms/step\n",
      "Epoch 40/50\n",
      "122/122 - 0s - loss: 0.0144 - val_loss: 0.0136 - 420ms/epoch - 3ms/step\n",
      "Epoch 41/50\n",
      "122/122 - 0s - loss: 0.0144 - val_loss: 0.0136 - 422ms/epoch - 3ms/step\n",
      "Epoch 42/50\n",
      "122/122 - 0s - loss: 0.0144 - val_loss: 0.0137 - 425ms/epoch - 3ms/step\n",
      "Epoch 43/50\n",
      "122/122 - 0s - loss: 0.0144 - val_loss: 0.0136 - 440ms/epoch - 4ms/step\n",
      "Epoch 44/50\n",
      "122/122 - 0s - loss: 0.0144 - val_loss: 0.0136 - 408ms/epoch - 3ms/step\n",
      "Epoch 45/50\n",
      "122/122 - 0s - loss: 0.0144 - val_loss: 0.0136 - 410ms/epoch - 3ms/step\n",
      "Epoch 46/50\n",
      "122/122 - 0s - loss: 0.0144 - val_loss: 0.0136 - 420ms/epoch - 3ms/step\n",
      "Epoch 47/50\n",
      "122/122 - 0s - loss: 0.0144 - val_loss: 0.0136 - 434ms/epoch - 4ms/step\n",
      "Epoch 48/50\n",
      "122/122 - 0s - loss: 0.0144 - val_loss: 0.0135 - 421ms/epoch - 3ms/step\n",
      "Epoch 49/50\n",
      "122/122 - 0s - loss: 0.0144 - val_loss: 0.0135 - 409ms/epoch - 3ms/step\n",
      "Epoch 50/50\n",
      "122/122 - 0s - loss: 0.0144 - val_loss: 0.0135 - 409ms/epoch - 3ms/step\n"
     ]
    },
    {
     "data": {
      "text/plain": "<Figure size 640x480 with 1 Axes>",
      "image/png": "[encoded data removed]"
     },
     "metadata": {},
     "output_type": "display_data"
    }
   ],
   "source": [
    "# split into train and test sets\n",
    "values = reframed.values\n",
    "n_train_hours = 365 * 24\n",
    "train = values[:n_train_hours, :]\n",
    "test = values[n_train_hours:, :]\n",
    "# split into input and outputs\n",
    "train_X, train_y = train[:, :-1], train[:, -1]\n",
    "test_X, test_y = test[:, :-1], test[:, -1]\n",
    "# reshape input to be 3D [samples, timesteps, features]\n",
    "train_X = train_X.reshape((train_X.shape[0], 1, train_X.shape[1]))\n",
    "test_X = test_X.reshape((test_X.shape[0], 1, test_X.shape[1]))\n",
    "print(train_X.shape, train_y.shape, test_X.shape, test_y.shape)\n",
    "\n",
    "# design network\n",
    "model = Sequential()\n",
    "model.add(LSTM(50, input_shape=(train_X.shape[1], train_X.shape[2])))\n",
    "model.add(Dense(1))\n",
    "model.compile(loss='mae', optimizer='adam')\n",
    "# fit network\n",
    "history = model.fit(train_X, train_y, epochs=50, batch_size=72, validation_data=(test_X, test_y), verbose=2, shuffle=False)\n",
    "# plot history\n",
    "pyplot.plot(history.history['loss'], label='train')\n",
    "pyplot.plot(history.history['val_loss'], label='test')\n",
    "pyplot.legend()\n",
    "pyplot.show()"
   ],
   "metadata": {
    "collapsed": false,
    "pycharm": {
     "name": "#%%\n"
    }
   }
  },
  {
   "cell_type": "code",
   "execution_count": 29,
   "outputs": [
    {
     "ename": "InvalidArgumentError",
     "evalue": "Graph execution error:\n\ntranspose expects a vector of size 2. But input(1) is a vector of size 3\n\t [[{{node transpose}}]]\n\t [[sequential_3/lstm_3/PartitionedCall]] [Op:__inference_predict_function_422100]",
     "output_type": "error",
     "traceback": [
      "\u001B[1;31m---------------------------------------------------------------------------\u001B[0m",
      "\u001B[1;31mInvalidArgumentError\u001B[0m                      Traceback (most recent call last)",
      "Cell \u001B[1;32mIn[29], line 2\u001B[0m\n\u001B[0;32m      1\u001B[0m \u001B[38;5;66;03m# make a prediction\u001B[39;00m\n\u001B[1;32m----> 2\u001B[0m yhat \u001B[38;5;241m=\u001B[39m \u001B[43mmodel\u001B[49m\u001B[38;5;241;43m.\u001B[39;49m\u001B[43mpredict\u001B[49m\u001B[43m(\u001B[49m\u001B[43mtest_X\u001B[49m\u001B[43m)\u001B[49m\n\u001B[0;32m      3\u001B[0m \u001B[38;5;28mprint\u001B[39m(yhat)\n\u001B[0;32m      4\u001B[0m test_X \u001B[38;5;241m=\u001B[39m test_X\u001B[38;5;241m.\u001B[39mreshape((test_X\u001B[38;5;241m.\u001B[39mshape[\u001B[38;5;241m0\u001B[39m], test_X\u001B[38;5;241m.\u001B[39mshape[\u001B[38;5;241m2\u001B[39m]))\n",
      "File \u001B[1;32m~\\AppData\\Local\\Programs\\Python\\Python39\\lib\\site-packages\\keras\\utils\\traceback_utils.py:70\u001B[0m, in \u001B[0;36mfilter_traceback.<locals>.error_handler\u001B[1;34m(*args, **kwargs)\u001B[0m\n\u001B[0;32m     67\u001B[0m     filtered_tb \u001B[38;5;241m=\u001B[39m _process_traceback_frames(e\u001B[38;5;241m.\u001B[39m__traceback__)\n\u001B[0;32m     68\u001B[0m     \u001B[38;5;66;03m# To get the full stack trace, call:\u001B[39;00m\n\u001B[0;32m     69\u001B[0m     \u001B[38;5;66;03m# `tf.debugging.disable_traceback_filtering()`\u001B[39;00m\n\u001B[1;32m---> 70\u001B[0m     \u001B[38;5;28;01mraise\u001B[39;00m e\u001B[38;5;241m.\u001B[39mwith_traceback(filtered_tb) \u001B[38;5;28;01mfrom\u001B[39;00m \u001B[38;5;28mNone\u001B[39m\n\u001B[0;32m     71\u001B[0m \u001B[38;5;28;01mfinally\u001B[39;00m:\n\u001B[0;32m     72\u001B[0m     \u001B[38;5;28;01mdel\u001B[39;00m filtered_tb\n",
      "File \u001B[1;32m~\\AppData\\Local\\Programs\\Python\\Python39\\lib\\site-packages\\tensorflow\\python\\eager\\execute.py:52\u001B[0m, in \u001B[0;36mquick_execute\u001B[1;34m(op_name, num_outputs, inputs, attrs, ctx, name)\u001B[0m\n\u001B[0;32m     50\u001B[0m \u001B[38;5;28;01mtry\u001B[39;00m:\n\u001B[0;32m     51\u001B[0m   ctx\u001B[38;5;241m.\u001B[39mensure_initialized()\n\u001B[1;32m---> 52\u001B[0m   tensors \u001B[38;5;241m=\u001B[39m pywrap_tfe\u001B[38;5;241m.\u001B[39mTFE_Py_Execute(ctx\u001B[38;5;241m.\u001B[39m_handle, device_name, op_name,\n\u001B[0;32m     53\u001B[0m                                       inputs, attrs, num_outputs)\n\u001B[0;32m     54\u001B[0m \u001B[38;5;28;01mexcept\u001B[39;00m core\u001B[38;5;241m.\u001B[39m_NotOkStatusException \u001B[38;5;28;01mas\u001B[39;00m e:\n\u001B[0;32m     55\u001B[0m   \u001B[38;5;28;01mif\u001B[39;00m name \u001B[38;5;129;01mis\u001B[39;00m \u001B[38;5;129;01mnot\u001B[39;00m \u001B[38;5;28;01mNone\u001B[39;00m:\n",
      "\u001B[1;31mInvalidArgumentError\u001B[0m: Graph execution error:\n\ntranspose expects a vector of size 2. But input(1) is a vector of size 3\n\t [[{{node transpose}}]]\n\t [[sequential_3/lstm_3/PartitionedCall]] [Op:__inference_predict_function_422100]"
     ]
    }
   ],
   "source": [
    "# make a prediction\n",
    "yhat = model.predict(test_X)\n",
    "print(yhat)\n",
    "test_X = test_X.reshape((test_X.shape[0], test_X.shape[2]))\n",
    "# invert scaling for forecast\n",
    "inv_yhat = concatenate((yhat, test_X[:, 1:]), axis=1)\n",
    "inv_yhat = scaler.inverse_transform(inv_yhat)\n",
    "inv_yhat = inv_yhat[:,0]\n",
    "# invert scaling for actual\n",
    "test_y = test_y.reshape((len(test_y), 1))\n",
    "inv_y = concatenate((test_y, test_X[:, 1:]), axis=1)\n",
    "inv_y = scaler.inverse_transform(inv_y)\n",
    "inv_y = inv_y[:,0]\n",
    "# calculate RMSE\n",
    "rmse = sqrt(mean_squared_error(inv_y, inv_yhat))\n",
    "print('Test RMSE: %.3f' % rmse)\n"
   ],
   "metadata": {
    "collapsed": false,
    "pycharm": {
     "name": "#%%\n"
    }
   }
  },
  {
   "cell_type": "code",
   "execution_count": 108,
   "outputs": [
    {
     "name": "stdout",
     "output_type": "stream",
     "text": [
      "   var1(t-1)  var2(t-1)  var3(t-1)  var4(t-1)  var5(t-1)  var6(t-1)  \\\n",
      "1        0.0   0.501520   0.507791   0.497382   0.496672   0.566256   \n",
      "2        0.0   0.511651   0.510541   0.499127   0.489185   0.559322   \n",
      "3        0.0   0.502533   0.513291   0.491274   0.490849   0.558552   \n",
      "4        0.0   0.497467   0.504125   0.493892   0.494176   0.544684   \n",
      "5        0.0   0.518744   0.515124   0.493019   0.495840   0.560092   \n",
      "\n",
      "   var7(t-1)  var8(t-1)  var9(t-1)  var10(t-1)  ...   var2(t)   var3(t)  \\\n",
      "1   0.646368   0.720218   0.769888    0.781167  ...  0.511651  0.510541   \n",
      "2   0.642700   0.719537   0.771203    0.782493  ...  0.502533  0.513291   \n",
      "3   0.643434   0.733152   0.777120    0.782493  ...  0.497467  0.504125   \n",
      "4   0.640499   0.721579   0.763314    0.774536  ...  0.518744  0.515124   \n",
      "5   0.648569   0.727706   0.767916    0.777188  ...  0.518744  0.520623   \n",
      "\n",
      "    var4(t)   var5(t)   var6(t)   var7(t)   var8(t)   var9(t)  var10(t)  \\\n",
      "1  0.499127  0.489185  0.559322  0.642700  0.719537  0.771203  0.782493   \n",
      "2  0.491274  0.490849  0.558552  0.643434  0.733152  0.777120  0.782493   \n",
      "3  0.493892  0.494176  0.544684  0.640499  0.721579  0.763314  0.774536   \n",
      "4  0.493019  0.495840  0.560092  0.648569  0.727706  0.767916  0.777188   \n",
      "5  0.498255  0.487521  0.566256  0.652238  0.720899  0.777120  0.787798   \n",
      "\n",
      "   var11(t)  \n",
      "1  0.778070  \n",
      "2  0.774130  \n",
      "3  0.773473  \n",
      "4  0.778726  \n",
      "5  0.774787  \n",
      "\n",
      "[5 rows x 22 columns]\n"
     ]
    }
   ],
   "source": [
    "################# GSL Attempt ###############\n",
    "# load dataset\n",
    "dataset = read_csv('GSL_Density_DataSet.csv', header=0, index_col=0)\n",
    "values = dataset.values\n",
    "\n",
    "values = values.astype('float32')\n",
    "# normalize features using max min method\n",
    "scaler = MinMaxScaler(feature_range=(0, 1))\n",
    "scaled = scaler.fit_transform(values)\n",
    "# frame as supervised learning\n",
    "reframed = series_to_supervised(scaled, 1, 1)\n",
    "# drop columns we don't want to predict, none because we want to predict all cell velocities\n",
    "#reframed.drop(reframed.columns[[9,10,11,12,13,14,15]], axis=1, inplace=True)\n",
    "print(reframed.head(5))\n"
   ],
   "metadata": {
    "collapsed": false,
    "pycharm": {
     "name": "#%%\n"
    }
   }
  },
  {
   "cell_type": "code",
   "execution_count": 109,
   "outputs": [
    {
     "name": "stdout",
     "output_type": "stream",
     "text": [
      "(19720, 1, 11) (19720, 11) (4931, 1, 11) (4931, 11)\n"
     ]
    }
   ],
   "source": [
    "# split into train and test sets\n",
    "values = reframed.values\n",
    "n_train_hours = int(len(values)*0.8)\n",
    "train = values[:n_train_hours, :]\n",
    "test = values[n_train_hours:, :]\n",
    "# split into input and outputs\n",
    "train_X, train_y = train[:, :-11], train[:, -11:]\n",
    "test_X, test_y = test[:, :-11], test[:,-11:]\n",
    "# reshape input to be 3D [samples, timesteps, features]\n",
    "train_X = train_X.reshape((train_X.shape[0], 1, train_X.shape[1]))\n",
    "test_X = test_X.reshape((test_X.shape[0], 1, test_X.shape[1]))\n",
    "print(train_X.shape, train_y.shape, test_X.shape, test_y.shape)"
   ],
   "metadata": {
    "collapsed": false,
    "pycharm": {
     "name": "#%%\n"
    }
   }
  },
  {
   "cell_type": "code",
   "execution_count": 110,
   "outputs": [],
   "source": [
    "# design network\n",
    "model = Sequential()\n",
    "model.add(LSTM(50, input_shape=(train_X.shape[1], train_X.shape[2])))\n",
    "model.add(Dense(11))\n",
    "model.compile(loss='mae', optimizer='adam')"
   ],
   "metadata": {
    "collapsed": false,
    "pycharm": {
     "name": "#%%\n"
    }
   }
  },
  {
   "cell_type": "code",
   "execution_count": 111,
   "outputs": [
    {
     "name": "stdout",
     "output_type": "stream",
     "text": [
      "Epoch 1/50\n",
      "274/274 - 4s - loss: 0.0868 - val_loss: 0.0147 - 4s/epoch - 16ms/step\n",
      "Epoch 2/50\n",
      "274/274 - 1s - loss: 0.0189 - val_loss: 0.0141 - 925ms/epoch - 3ms/step\n",
      "Epoch 3/50\n",
      "274/274 - 1s - loss: 0.0181 - val_loss: 0.0133 - 931ms/epoch - 3ms/step\n",
      "Epoch 4/50\n",
      "274/274 - 1s - loss: 0.0174 - val_loss: 0.0126 - 907ms/epoch - 3ms/step\n",
      "Epoch 5/50\n",
      "274/274 - 1s - loss: 0.0167 - val_loss: 0.0118 - 919ms/epoch - 3ms/step\n",
      "Epoch 6/50\n",
      "274/274 - 1s - loss: 0.0159 - val_loss: 0.0115 - 923ms/epoch - 3ms/step\n",
      "Epoch 7/50\n",
      "274/274 - 1s - loss: 0.0152 - val_loss: 0.0110 - 951ms/epoch - 3ms/step\n",
      "Epoch 8/50\n",
      "274/274 - 1s - loss: 0.0146 - val_loss: 0.0106 - 922ms/epoch - 3ms/step\n",
      "Epoch 9/50\n",
      "274/274 - 1s - loss: 0.0143 - val_loss: 0.0104 - 910ms/epoch - 3ms/step\n",
      "Epoch 10/50\n",
      "274/274 - 1s - loss: 0.0140 - val_loss: 0.0102 - 1s/epoch - 4ms/step\n",
      "Epoch 11/50\n",
      "274/274 - 1s - loss: 0.0138 - val_loss: 0.0100 - 912ms/epoch - 3ms/step\n",
      "Epoch 12/50\n",
      "274/274 - 1s - loss: 0.0137 - val_loss: 0.0101 - 1s/epoch - 4ms/step\n",
      "Epoch 13/50\n",
      "274/274 - 1s - loss: 0.0135 - val_loss: 0.0101 - 906ms/epoch - 3ms/step\n",
      "Epoch 14/50\n",
      "274/274 - 1s - loss: 0.0135 - val_loss: 0.0100 - 904ms/epoch - 3ms/step\n",
      "Epoch 15/50\n",
      "274/274 - 1s - loss: 0.0134 - val_loss: 0.0099 - 931ms/epoch - 3ms/step\n",
      "Epoch 16/50\n",
      "274/274 - 1s - loss: 0.0133 - val_loss: 0.0100 - 921ms/epoch - 3ms/step\n",
      "Epoch 17/50\n",
      "274/274 - 1s - loss: 0.0133 - val_loss: 0.0099 - 923ms/epoch - 3ms/step\n",
      "Epoch 18/50\n",
      "274/274 - 1s - loss: 0.0132 - val_loss: 0.0100 - 914ms/epoch - 3ms/step\n",
      "Epoch 19/50\n",
      "274/274 - 1s - loss: 0.0131 - val_loss: 0.0100 - 920ms/epoch - 3ms/step\n",
      "Epoch 20/50\n",
      "274/274 - 1s - loss: 0.0131 - val_loss: 0.0099 - 936ms/epoch - 3ms/step\n",
      "Epoch 21/50\n",
      "274/274 - 1s - loss: 0.0130 - val_loss: 0.0098 - 933ms/epoch - 3ms/step\n",
      "Epoch 22/50\n",
      "274/274 - 1s - loss: 0.0130 - val_loss: 0.0098 - 961ms/epoch - 4ms/step\n",
      "Epoch 23/50\n",
      "274/274 - 1s - loss: 0.0129 - val_loss: 0.0097 - 909ms/epoch - 3ms/step\n",
      "Epoch 24/50\n",
      "274/274 - 1s - loss: 0.0129 - val_loss: 0.0096 - 922ms/epoch - 3ms/step\n",
      "Epoch 25/50\n",
      "274/274 - 1s - loss: 0.0128 - val_loss: 0.0096 - 898ms/epoch - 3ms/step\n",
      "Epoch 26/50\n",
      "274/274 - 1s - loss: 0.0127 - val_loss: 0.0096 - 910ms/epoch - 3ms/step\n",
      "Epoch 27/50\n",
      "274/274 - 1s - loss: 0.0127 - val_loss: 0.0095 - 919ms/epoch - 3ms/step\n",
      "Epoch 28/50\n",
      "274/274 - 1s - loss: 0.0126 - val_loss: 0.0094 - 928ms/epoch - 3ms/step\n",
      "Epoch 29/50\n",
      "274/274 - 1s - loss: 0.0126 - val_loss: 0.0093 - 933ms/epoch - 3ms/step\n",
      "Epoch 30/50\n",
      "274/274 - 1s - loss: 0.0126 - val_loss: 0.0093 - 1s/epoch - 4ms/step\n",
      "Epoch 31/50\n",
      "274/274 - 1s - loss: 0.0125 - val_loss: 0.0095 - 979ms/epoch - 4ms/step\n",
      "Epoch 32/50\n",
      "274/274 - 1s - loss: 0.0125 - val_loss: 0.0094 - 929ms/epoch - 3ms/step\n",
      "Epoch 33/50\n",
      "274/274 - 1s - loss: 0.0125 - val_loss: 0.0093 - 923ms/epoch - 3ms/step\n",
      "Epoch 34/50\n",
      "274/274 - 1s - loss: 0.0124 - val_loss: 0.0094 - 911ms/epoch - 3ms/step\n",
      "Epoch 35/50\n",
      "274/274 - 1s - loss: 0.0124 - val_loss: 0.0093 - 909ms/epoch - 3ms/step\n",
      "Epoch 36/50\n",
      "274/274 - 1s - loss: 0.0124 - val_loss: 0.0095 - 928ms/epoch - 3ms/step\n",
      "Epoch 37/50\n",
      "274/274 - 1s - loss: 0.0124 - val_loss: 0.0094 - 931ms/epoch - 3ms/step\n",
      "Epoch 38/50\n",
      "274/274 - 1s - loss: 0.0123 - val_loss: 0.0093 - 906ms/epoch - 3ms/step\n",
      "Epoch 39/50\n",
      "274/274 - 1s - loss: 0.0124 - val_loss: 0.0093 - 924ms/epoch - 3ms/step\n",
      "Epoch 40/50\n",
      "274/274 - 1s - loss: 0.0123 - val_loss: 0.0092 - 926ms/epoch - 3ms/step\n",
      "Epoch 41/50\n",
      "274/274 - 1s - loss: 0.0123 - val_loss: 0.0092 - 940ms/epoch - 3ms/step\n",
      "Epoch 42/50\n",
      "274/274 - 1s - loss: 0.0123 - val_loss: 0.0092 - 911ms/epoch - 3ms/step\n",
      "Epoch 43/50\n",
      "274/274 - 1s - loss: 0.0123 - val_loss: 0.0093 - 903ms/epoch - 3ms/step\n",
      "Epoch 44/50\n",
      "274/274 - 1s - loss: 0.0122 - val_loss: 0.0092 - 910ms/epoch - 3ms/step\n",
      "Epoch 45/50\n",
      "274/274 - 1s - loss: 0.0122 - val_loss: 0.0093 - 922ms/epoch - 3ms/step\n",
      "Epoch 46/50\n",
      "274/274 - 1s - loss: 0.0122 - val_loss: 0.0094 - 935ms/epoch - 3ms/step\n",
      "Epoch 47/50\n",
      "274/274 - 1s - loss: 0.0122 - val_loss: 0.0093 - 916ms/epoch - 3ms/step\n",
      "Epoch 48/50\n",
      "274/274 - 1s - loss: 0.0122 - val_loss: 0.0092 - 921ms/epoch - 3ms/step\n",
      "Epoch 49/50\n",
      "274/274 - 1s - loss: 0.0121 - val_loss: 0.0092 - 921ms/epoch - 3ms/step\n",
      "Epoch 50/50\n",
      "274/274 - 1s - loss: 0.0121 - val_loss: 0.0092 - 922ms/epoch - 3ms/step\n"
     ]
    },
    {
     "data": {
      "text/plain": "<Figure size 640x480 with 1 Axes>",
      "image/png": "[encoded data removed]"
     },
     "metadata": {},
     "output_type": "display_data"
    }
   ],
   "source": [
    "# fit network\n",
    "history = model.fit(train_X, train_y, epochs=50, batch_size=72, validation_data=(test_X, test_y), verbose=2, shuffle=False)\n",
    "# plot history\n",
    "pyplot.plot(history.history['loss'], label='train')\n",
    "pyplot.plot(history.history['val_loss'], label='test')\n",
    "pyplot.legend()\n",
    "pyplot.show()"
   ],
   "metadata": {
    "collapsed": false,
    "pycharm": {
     "name": "#%%\n"
    }
   }
  },
  {
   "cell_type": "code",
   "execution_count": 112,
   "outputs": [
    {
     "name": "stdout",
     "output_type": "stream",
     "text": [
      "155/155 [==============================] - 1s 2ms/step\n",
      "[[-0.00215056  0.47082922  0.45835185 ...  0.7558236   0.7782259\n",
      "   0.7766818 ]\n",
      " [-0.00220672  0.46170786  0.44821253 ...  0.7545517   0.7774894\n",
      "   0.77533185]\n",
      " [-0.00200453  0.4700591   0.4568413  ...  0.75758624  0.7769195\n",
      "   0.77552265]\n",
      " ...\n",
      " [-0.0024323   0.5302298   0.516145   ...  0.81965446  0.8180541\n",
      "   0.8044899 ]\n",
      " [-0.0024371   0.52527106  0.51127553 ...  0.81452125  0.81641674\n",
      "   0.8045912 ]\n",
      " [-0.00237055  0.52528495  0.51113856 ...  0.81359065  0.80970883\n",
      "   0.7984672 ]]\n",
      "(4931, 1, 11)\n",
      "(4931, 11)\n",
      "(4931, 21)\n"
     ]
    },
    {
     "ename": "ValueError",
     "evalue": "operands could not be broadcast together with shapes (4931,21) (11,) (4931,21) ",
     "output_type": "error",
     "traceback": [
      "\u001B[1;31m---------------------------------------------------------------------------\u001B[0m",
      "\u001B[1;31mValueError\u001B[0m                                Traceback (most recent call last)",
      "Cell \u001B[1;32mIn[112], line 10\u001B[0m\n\u001B[0;32m      8\u001B[0m inv_yhat \u001B[38;5;241m=\u001B[39m concatenate((yhat, test_X[:, \u001B[38;5;241m1\u001B[39m:]), axis\u001B[38;5;241m=\u001B[39m\u001B[38;5;241m1\u001B[39m)\n\u001B[0;32m      9\u001B[0m \u001B[38;5;28mprint\u001B[39m(inv_yhat\u001B[38;5;241m.\u001B[39mshape)\n\u001B[1;32m---> 10\u001B[0m inv_yhat \u001B[38;5;241m=\u001B[39m \u001B[43mscaler\u001B[49m\u001B[38;5;241;43m.\u001B[39;49m\u001B[43minverse_transform\u001B[49m\u001B[43m(\u001B[49m\u001B[43minv_yhat\u001B[49m\u001B[43m)\u001B[49m\n\u001B[0;32m     11\u001B[0m inv_yhat \u001B[38;5;241m=\u001B[39m inv_yhat[:,\u001B[38;5;241m0\u001B[39m]\n\u001B[0;32m     12\u001B[0m \u001B[38;5;66;03m# invert scaling for actual\u001B[39;00m\n",
      "File \u001B[1;32m~\\AppData\\Local\\Programs\\Python\\Python39\\lib\\site-packages\\sklearn\\preprocessing\\_data.py:541\u001B[0m, in \u001B[0;36mMinMaxScaler.inverse_transform\u001B[1;34m(self, X)\u001B[0m\n\u001B[0;32m    535\u001B[0m check_is_fitted(\u001B[38;5;28mself\u001B[39m)\n\u001B[0;32m    537\u001B[0m X \u001B[38;5;241m=\u001B[39m check_array(\n\u001B[0;32m    538\u001B[0m     X, copy\u001B[38;5;241m=\u001B[39m\u001B[38;5;28mself\u001B[39m\u001B[38;5;241m.\u001B[39mcopy, dtype\u001B[38;5;241m=\u001B[39mFLOAT_DTYPES, force_all_finite\u001B[38;5;241m=\u001B[39m\u001B[38;5;124m\"\u001B[39m\u001B[38;5;124mallow-nan\u001B[39m\u001B[38;5;124m\"\u001B[39m\n\u001B[0;32m    539\u001B[0m )\n\u001B[1;32m--> 541\u001B[0m X \u001B[38;5;241m-\u001B[39m\u001B[38;5;241m=\u001B[39m \u001B[38;5;28mself\u001B[39m\u001B[38;5;241m.\u001B[39mmin_\n\u001B[0;32m    542\u001B[0m X \u001B[38;5;241m/\u001B[39m\u001B[38;5;241m=\u001B[39m \u001B[38;5;28mself\u001B[39m\u001B[38;5;241m.\u001B[39mscale_\n\u001B[0;32m    543\u001B[0m \u001B[38;5;28;01mreturn\u001B[39;00m X\n",
      "\u001B[1;31mValueError\u001B[0m: operands could not be broadcast together with shapes (4931,21) (11,) (4931,21) "
     ]
    }
   ],
   "source": [
    "# make a prediction, it works but now it is getting the performance out of the information, so I will call it for the night\n",
    "yhat = model.predict(test_X)\n",
    "print(yhat)\n",
    "print(test_X.shape)\n",
    "test_X = test_X.reshape((test_X.shape[0], test_X.shape[2]))\n",
    "print(test_X.shape)\n",
    "# invert scaling for forecast\n",
    "inv_yhat = concatenate((yhat, test_X[:, 1:]), axis=1)\n",
    "print(inv_yhat.shape)\n",
    "inv_yhat = scaler.inverse_transform(inv_yhat)\n",
    "inv_yhat = inv_yhat[:,0]\n",
    "# invert scaling for actual\n",
    "test_y = test_y.reshape((len(test_y), 11))\n",
    "inv_y = concatenate((test_y, test_X[:, 1:]), axis=1)\n",
    "inv_y = scaler.inverse_transform(inv_y)\n",
    "inv_y = inv_y[:,0]\n",
    "# calculate RMSE\n",
    "rmse = sqrt(mean_squared_error(inv_y, inv_yhat))\n",
    "print('Test RMSE: %.3f' % rmse)\n"
   ],
   "metadata": {
    "collapsed": false,
    "pycharm": {
     "name": "#%%\n"
    }
   }
  }
 ],
 "metadata": {
  "kernelspec": {
   "display_name": "Python 3",
   "language": "python",
   "name": "python3"
  },
  "language_info": {
   "codemirror_mode": {
    "name": "ipython",
    "version": 2
   },
   "file_extension": ".py",
   "mimetype": "text/x-python",
   "name": "python",
   "nbconvert_exporter": "python",
   "pygments_lexer": "ipython2",
   "version": "2.7.6"
  }
 },
 "nbformat": 4,
 "nbformat_minor": 0
}